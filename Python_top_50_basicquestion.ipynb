{
 "cells": [
  {
   "cell_type": "markdown",
   "id": "020d8417-890f-45f0-8564-0e7f468021e2",
   "metadata": {},
   "source": [
    " # 1)Write a Program to find the area of triangle"
   ]
  },
  {
   "cell_type": "markdown",
   "id": "529afe65-1720-4fd2-9f20-da65ea38bd8f",
   "metadata": {},
   "source": [
    "*  Area  traingle formula is 0.5 * base* height"
   ]
  },
  {
   "cell_type": "code",
   "execution_count": 1,
   "id": "3e7b17d8-d7c1-4268-91c0-d3de7fb47b8e",
   "metadata": {},
   "outputs": [
    {
     "name": "stdin",
     "output_type": "stream",
     "text": [
      "Enter the base of the triangle 4\n",
      "Enter the height of the triangle 5\n"
     ]
    },
    {
     "name": "stdout",
     "output_type": "stream",
     "text": [
      "Area of triangle is :10.0\n"
     ]
    }
   ],
   "source": [
    "b = int(input(\"Enter the base of the triangle\"))\n",
    "h = int(input(\"Enter the height of the triangle\"))\n",
    "area = 0.5*b*h\n",
    "print(f\"Area of triangle is :{area}\")"
   ]
  },
  {
   "cell_type": "code",
   "execution_count": null,
   "id": "cca8b24a-3ed2-4181-94bb-8959569bd9c0",
   "metadata": {},
   "outputs": [],
   "source": []
  },
  {
   "cell_type": "markdown",
   "id": "b5b0bb32-bd5e-4fd9-ae37-d8887133458b",
   "metadata": {},
   "source": [
    "# 2) Write a program to swap two variable"
   ]
  },
  {
   "cell_type": "code",
   "execution_count": 2,
   "id": "a80af39a-d703-460a-8c5f-d13f8f9323d6",
   "metadata": {},
   "outputs": [
    {
     "name": "stdout",
     "output_type": "stream",
     "text": [
      "After swaping the Variables\n",
      "a is:10\n",
      "b is: 5\n"
     ]
    }
   ],
   "source": [
    "a=5\n",
    "b=10\n",
    "a,b = b,a\n",
    "print(\"After swaping the Variables\")\n",
    "print(f\"a is:{a}\")\n",
    "print(\"b is:\",b)"
   ]
  },
  {
   "cell_type": "markdown",
   "id": "8bb1ada0-a982-4c08-b187-f35c116af19b",
   "metadata": {},
   "source": [
    "# Alternative solution"
   ]
  },
  {
   "cell_type": "markdown",
   "id": "842bf733-1f15-4fde-b52e-fe7cd284a5e3",
   "metadata": {},
   "source": [
    "*with using the temp"
   ]
  },
  {
   "cell_type": "code",
   "execution_count": 5,
   "id": "f70dd8e3-852f-4bdf-aa10-368232f10da4",
   "metadata": {},
   "outputs": [
    {
     "name": "stdout",
     "output_type": "stream",
     "text": [
      "After swaping with the temp \n",
      "a is : 20\n",
      "b is: 10\n"
     ]
    }
   ],
   "source": [
    "a= 10\n",
    "b= 20\n",
    "temp = a\n",
    "a = b\n",
    "b = temp\n",
    "print(\"After swaping with the temp \")\n",
    "print(\"a is :\",a)\n",
    "print(\"b is:\",b)\n"
   ]
  },
  {
   "cell_type": "markdown",
   "id": "1b7ef5cb-e18b-463a-9135-54f360dc6bac",
   "metadata": {},
   "source": [
    "# 3) Write a Program to convert kilometers to miles"
   ]
  },
  {
   "cell_type": "markdown",
   "id": "c1f94924-1961-4211-85ba-77f1a64683e8",
   "metadata": {},
   "source": [
    "* one is equal to the 0.621371"
   ]
  },
  {
   "cell_type": "code",
   "execution_count": 6,
   "id": "c1e653a3-62a0-4971-8f1d-7b4f77787d63",
   "metadata": {},
   "outputs": [
    {
     "name": "stdin",
     "output_type": "stream",
     "text": [
      "Enter distance in kilometers:  100\n"
     ]
    },
    {
     "name": "stdout",
     "output_type": "stream",
     "text": [
      "100.0 kilometers is equal to 62.137100000000004 miles\n"
     ]
    }
   ],
   "source": [
    "kilometers = float(input(\"Enter distance in kilometers: \"))\n",
    "conversion_factor = 0.621371\n",
    "miles = kilometers * conversion_factor\n",
    "print(f\"{kilometers} kilometers is equal to {miles} miles\")\n"
   ]
  },
  {
   "cell_type": "code",
   "execution_count": null,
   "id": "21a26c4f-75c9-4061-8fd6-bf2d24933445",
   "metadata": {},
   "outputs": [],
   "source": []
  },
  {
   "cell_type": "markdown",
   "id": "6f5e6afe-abac-4877-9545-1468824c46eb",
   "metadata": {},
   "source": [
    "# 4) write a program to swap variables without temp variable "
   ]
  },
  {
   "cell_type": "code",
   "execution_count": 7,
   "id": "c5413b28-0d02-4b8a-8e6d-25e0a1ae7f01",
   "metadata": {},
   "outputs": [
    {
     "name": "stdout",
     "output_type": "stream",
     "text": [
      "After swaping the Variables\n",
      "a is:10\n",
      "b is: 5\n"
     ]
    }
   ],
   "source": [
    "a=5\n",
    "b=10\n",
    "a,b = b,a\n",
    "print(\"After swaping the Variables\")\n",
    "print(f\"a is:{a}\")\n",
    "print(\"b is:\",b)"
   ]
  },
  {
   "cell_type": "code",
   "execution_count": null,
   "id": "6e8a5fc6-b658-4e43-a2a1-a2784c345008",
   "metadata": {},
   "outputs": [],
   "source": []
  },
  {
   "cell_type": "markdown",
   "id": "5ee4f3bd-4c8b-4b1f-a0ba-039fd9f2f032",
   "metadata": {},
   "source": [
    "# 5)write a program to check the year is leap year or not"
   ]
  },
  {
   "cell_type": "markdown",
   "id": "e656cb24-0e82-4628-b724-58f8dbaf33d6",
   "metadata": {},
   "source": [
    "* If the year is divisible by 400, it is a leap year.\n",
    "* If the year is divisible by 100 but not by 400, it is not a leap year.\n",
    "* If the year is divisible by 4 but not by 100, it is a leap year.\n",
    "* Otherwise, it is not a leap year."
   ]
  },
  {
   "cell_type": "code",
   "execution_count": 4,
   "id": "e5b3ae11-ec27-46ff-9219-5381fbf66b00",
   "metadata": {},
   "outputs": [
    {
     "name": "stdin",
     "output_type": "stream",
     "text": [
      "Enter the your year 2020\n"
     ]
    },
    {
     "name": "stdout",
     "output_type": "stream",
     "text": [
      "2020 is a leap year\n"
     ]
    }
   ],
   "source": [
    "year = int(input(\"Enter the your year\"))\n",
    "if (year % 400 == 0) and (year % 100 == 0):\n",
    " print(\"{0} is a leap year\".format(year))\n",
    "elif (year % 4 ==0) and (year % 100 != 0):\n",
    " print(\"{0} is a leap year\".format(year))\n",
    "else:\n",
    "    print(\"it is not a leap year:\",year)"
   ]
  },
  {
   "cell_type": "markdown",
   "id": "44bd7373-938c-42b3-893b-0fde7819d742",
   "metadata": {},
   "source": [
    "# Alternative solution"
   ]
  },
  {
   "cell_type": "code",
   "execution_count": 18,
   "id": "d5753c5b-4259-41d7-8312-080557d379f5",
   "metadata": {},
   "outputs": [
    {
     "name": "stdin",
     "output_type": "stream",
     "text": [
      "Enter your year to check leap year or not 2016\n"
     ]
    },
    {
     "name": "stdout",
     "output_type": "stream",
     "text": [
      "leap year: 2016\n"
     ]
    }
   ],
   "source": [
    "year = int(input(\"Enter your year to check leap year or not\"))\n",
    "if (year % 400 == 0) or (year % 4 == 0 and year % 100 != 0):     # important\n",
    "    \n",
    "    print(\"leap year:\",year)\n",
    "        \n",
    "else:\n",
    "    print(\"not a leap year:\",year)\n",
    "\n"
   ]
  },
  {
   "cell_type": "markdown",
   "id": "ed06b7a4-01d6-4122-82a5-d332dabed616",
   "metadata": {},
   "source": [
    "# Alternative solution\r\n"
   ]
  },
  {
   "cell_type": "code",
   "execution_count": 19,
   "id": "bc5341a4-a122-4302-9bd0-2ea2cb78355f",
   "metadata": {},
   "outputs": [
    {
     "name": "stdin",
     "output_type": "stream",
     "text": [
      "Enter your year to check leap year or not 2024\n"
     ]
    },
    {
     "name": "stdout",
     "output_type": "stream",
     "text": [
      "leap year : 2024\n"
     ]
    }
   ],
   "source": [
    "year  = int(input(\"Enter your year to check leap year or not\"))\n",
    "if year%400 == 0:\n",
    "    print(\"leap year :\",year)\n",
    "elif (year%100 ==0) and (year%400 !=0):\n",
    "    print(\"leap year :\",year)\n",
    "elif (year%4 ==0) and (year%100 !=0):\n",
    "    print(\"leap year :\",year)\n",
    "else:\n",
    "    print(\"is not a leap year :\",year)\n",
    "    "
   ]
  },
  {
   "cell_type": "code",
   "execution_count": null,
   "id": "164ac8c2-71f1-4b29-8152-ef2273eae521",
   "metadata": {},
   "outputs": [],
   "source": []
  },
  {
   "cell_type": "markdown",
   "id": "59c739a1-f179-45f9-b357-005b792b2480",
   "metadata": {},
   "source": [
    "# 6)Write a program to check Prime number or not"
   ]
  },
  {
   "cell_type": "markdown",
   "id": "a4c5e268-63bf-4d96-ae0e-e000c1ea03ab",
   "metadata": {},
   "source": [
    "* A prime number is greater than 1.\n",
    "* It should not be divisible by any number other than 1 and itself"
   ]
  },
  {
   "cell_type": "code",
   "execution_count": 32,
   "id": "0ddde320-385e-4010-97d9-bc072f2de0a6",
   "metadata": {},
   "outputs": [
    {
     "name": "stdin",
     "output_type": "stream",
     "text": [
      "Enter the number to check if it is a prime number:  3\n"
     ]
    },
    {
     "name": "stdout",
     "output_type": "stream",
     "text": [
      "It IS a prime number: 3\n"
     ]
    }
   ],
   "source": [
    "n = int(input(\"Enter the number to check if it is a prime number: \"))\n",
    "\n",
    "if n <= 1:\n",
    "    print(\"It is NOT a prime number:\", n)\n",
    "else:\n",
    "    for i in range(2, n):\n",
    "        if n % i == 0:\n",
    "            print(\"NOT a prime number:\", n)\n",
    "            break  # Stop checking further because  it's not a prime number\n",
    "    else:\n",
    "        print(\"It IS a prime number:\", n)\n",
    "\n",
    "            \n",
    "    "
   ]
  },
  {
   "cell_type": "markdown",
   "id": "818882c2-9950-4f58-ad9c-3ed85860cabe",
   "metadata": {},
   "source": [
    "# Alternative solution¶"
   ]
  },
  {
   "cell_type": "code",
   "execution_count": 41,
   "id": "aa79df06-4f86-48d6-a121-72cc6eb6774d",
   "metadata": {},
   "outputs": [
    {
     "name": "stdin",
     "output_type": "stream",
     "text": [
      "Enter the number to check if it is a prime number:  13\n"
     ]
    },
    {
     "name": "stdout",
     "output_type": "stream",
     "text": [
      "It IS a prime number: 13\n"
     ]
    }
   ],
   "source": [
    "def primenumber(n):\n",
    "    if n < 2:\n",
    "        print(\"It is NOT a prime number:\", n)\n",
    "        return  # Exit the function early\n",
    "\n",
    "    for i in range(2, n):\n",
    "        if n % i == 0:\n",
    "            print(\"It is NOT a prime number:\", n)\n",
    "            break\n",
    "    else:\n",
    "        print(\"It IS a prime number:\", n)\n",
    "    \n",
    "# Get user input\n",
    "num = int(input(\"Enter the number to check if it is a prime number: \"))\n",
    "primenumber(num)  # Call the function\n"
   ]
  },
  {
   "cell_type": "code",
   "execution_count": null,
   "id": "a76349e8-637f-4c59-ac82-ea43c98ed2ba",
   "metadata": {},
   "outputs": [],
   "source": []
  },
  {
   "cell_type": "markdown",
   "id": "44547098-8e27-4ab6-b18b-750b972bcf72",
   "metadata": {},
   "source": [
    "# 7) Write a program to check factorial of a number"
   ]
  },
  {
   "cell_type": "markdown",
   "id": "179102fb-3b9b-4527-a777-570fb21ce903",
   "metadata": {},
   "source": [
    "* The factorial of a number nis the product of all positive integers from 1 to n.\n",
    "* n! = n*n-1 *n-2 * n\n",
    "* 5!  = 1* 2 *3 *4 *5"
   ]
  },
  {
   "cell_type": "code",
   "execution_count": 47,
   "id": "eac5ff78-66cc-401c-b4b5-dc35a7e44b3c",
   "metadata": {},
   "outputs": [
    {
     "name": "stdin",
     "output_type": "stream",
     "text": [
      "Enter any number for the factorial:  5\n"
     ]
    },
    {
     "name": "stdout",
     "output_type": "stream",
     "text": [
      "Factorial of 5 is 120\n"
     ]
    }
   ],
   "source": [
    "n = int(input(\"Enter any number for the factorial: \"))\n",
    "\n",
    "f = 1 \n",
    "\n",
    "for i in range(1, n + 1):\n",
    "    f *= i \n",
    "\n",
    "print(\"Factorial of\", n, \"is\", f) \n",
    "\n",
    "    "
   ]
  },
  {
   "cell_type": "markdown",
   "id": "ec56e121-459d-4914-a3a5-f6d719280627",
   "metadata": {},
   "source": [
    "# Alternative way"
   ]
  },
  {
   "cell_type": "code",
   "execution_count": 49,
   "id": "5edad7d0-05a5-4952-884a-b73ff1d3dffa",
   "metadata": {},
   "outputs": [
    {
     "name": "stdin",
     "output_type": "stream",
     "text": [
      "Enter any number for the factorial:  5\n"
     ]
    },
    {
     "name": "stdout",
     "output_type": "stream",
     "text": [
      "Factorial of 5 is 120\n"
     ]
    }
   ],
   "source": [
    "n = int(input(\"Enter any number for the factorial: \"))\n",
    "\n",
    "f = 1\n",
    "i = 1\n",
    "\n",
    "while i <= n:\n",
    "    f *= i\n",
    "    i += 1\n",
    "\n",
    "print(\"Factorial of\", n, \"is\", f)\n"
   ]
  },
  {
   "cell_type": "markdown",
   "id": "e33cdbce-2ad6-470f-bc43-097d3d2bdb6b",
   "metadata": {},
   "source": [
    "# Alternative way"
   ]
  },
  {
   "cell_type": "code",
   "execution_count": 48,
   "id": "80baa352-4fcc-4571-9909-717571e2afb3",
   "metadata": {},
   "outputs": [
    {
     "name": "stdin",
     "output_type": "stream",
     "text": [
      "Enter any number for the factorial:  5\n"
     ]
    },
    {
     "name": "stdout",
     "output_type": "stream",
     "text": [
      "Factorial of 5 is 120\n"
     ]
    }
   ],
   "source": [
    "import math\n",
    "\n",
    "n = int(input(\"Enter any number for the factorial: \"))\n",
    "print(\"Factorial of\", n, \"is\", math.factorial(n))\n"
   ]
  },
  {
   "cell_type": "code",
   "execution_count": null,
   "id": "e491dbd3-fc96-4750-87b1-62651ac677e7",
   "metadata": {},
   "outputs": [],
   "source": []
  },
  {
   "cell_type": "markdown",
   "id": "6d912748-0927-4bc8-aade-cf1eefe0be5d",
   "metadata": {},
   "source": [
    "# 8)Write a program to display the multiplication of the table"
   ]
  },
  {
   "cell_type": "code",
   "execution_count": 5,
   "id": "4ca98688-3bdc-4f69-95d9-356785b0eb1f",
   "metadata": {},
   "outputs": [
    {
     "name": "stdin",
     "output_type": "stream",
     "text": [
      "Enter the number of multiples needed 10\n",
      "enter the table number needed 2\n"
     ]
    },
    {
     "name": "stdout",
     "output_type": "stream",
     "text": [
      "2 * 1 =2\n",
      "2 * 2 =4\n",
      "2 * 3 =6\n",
      "2 * 4 =8\n",
      "2 * 5 =10\n",
      "2 * 6 =12\n",
      "2 * 7 =14\n",
      "2 * 8 =16\n",
      "2 * 9 =18\n",
      "2 * 10 =20\n"
     ]
    }
   ],
   "source": [
    "n = int(input(\"Enter the number of multiples needed\"))\n",
    "t = int(input(\"enter the table number needed\"))\n",
    "for i in range(1,n+1):\n",
    "    print(f\"{t} * {i} ={t*i}\")\n",
    "    \n",
    "\n",
    "\n"
   ]
  },
  {
   "cell_type": "markdown",
   "id": "2b2db80f-09bc-4a63-80b8-6332ee7c6910",
   "metadata": {},
   "source": [
    "# Alternative way"
   ]
  },
  {
   "cell_type": "code",
   "execution_count": 8,
   "id": "82a74a01-2bee-4f25-b30e-d4a9ce040d33",
   "metadata": {},
   "outputs": [
    {
     "name": "stdin",
     "output_type": "stream",
     "text": [
      "Enter a number to display its multiplication table:  2\n",
      "Enter the range up to which you want the table:  2\n"
     ]
    }
   ],
   "source": [
    "t = int(input(\"Enter a number to display its multiplication table: \"))\n",
    "n = int(input(\"Enter the range up to which you want the table: \"))\n",
    "\n",
    "def multipletable(n,t):\n",
    "    for i in range(1,n+1):\n",
    "        print(f\"{t}*{i}={t*i}\")\n"
   ]
  },
  {
   "cell_type": "code",
   "execution_count": 7,
   "id": "7df6d8ad-2f8f-4a55-b6a3-25a5c6d55986",
   "metadata": {},
   "outputs": [
    {
     "name": "stdout",
     "output_type": "stream",
     "text": [
      "2*1=2\n",
      "2*2=4\n",
      "2*3=6\n",
      "2*4=8\n",
      "2*5=10\n",
      "2*6=12\n",
      "2*7=14\n",
      "2*8=16\n",
      "2*9=18\n",
      "2*10=20\n"
     ]
    }
   ],
   "source": [
    "# calling the multiple table\n",
    "multipletable(10,2)"
   ]
  },
  {
   "cell_type": "code",
   "execution_count": null,
   "id": "5c0fabd1-646f-42ae-ac1b-0742aeeb4868",
   "metadata": {},
   "outputs": [],
   "source": []
  },
  {
   "cell_type": "markdown",
   "id": "3c49b8ee-9025-4e2f-973a-4d03b97ce765",
   "metadata": {},
   "source": [
    "# 9)Write a program to print the fibonnaci series"
   ]
  },
  {
   "cell_type": "markdown",
   "id": "14ef9d40-36ee-4f1b-a530-23724382caff",
   "metadata": {},
   "source": [
    "* F(n)=F(n−1)+F(n−2)\n",
    "* The series starts with 0 and 1 indexes is equal to the 2 index number "
   ]
  },
  {
   "cell_type": "code",
   "execution_count": 13,
   "id": "664bd728-d147-4ede-8b4f-010f8fdc2a70",
   "metadata": {},
   "outputs": [
    {
     "name": "stdin",
     "output_type": "stream",
     "text": [
      "Enter the number of Fibonacci series terms needed:  5\n"
     ]
    },
    {
     "name": "stdout",
     "output_type": "stream",
     "text": [
      "Fibonacci series with 5 terms: [0, 1, 1, 2, 3]\n"
     ]
    }
   ],
   "source": [
    "n = int(input(\"Enter the number of Fibonacci series terms needed: \"))\n",
    "\n",
    "if n <= 0:\n",
    "    print(\"No Fibonacci series are available\")\n",
    "else:\n",
    "    # Initialize the first two terms\n",
    "    fib_series = [0, 1]\n",
    "    \n",
    "    # Generate the series up to `n` terms\n",
    "    for i in range(2, n):\n",
    "        next_term = fib_series[-1] + fib_series[-2]\n",
    "        fib_series.append(next_term)\n",
    "    \n",
    "    # Print the series\n",
    "    print(f\"Fibonacci series with {n} terms: {fib_series[:n]}\")\n",
    "\n",
    "            "
   ]
  },
  {
   "cell_type": "code",
   "execution_count": 2,
   "id": "e4a56823-4fdc-494a-b0a9-7a400cbc73d8",
   "metadata": {},
   "outputs": [
    {
     "name": "stdin",
     "output_type": "stream",
     "text": [
      "Enter the number of Fibonacci series terms needed:  8\n"
     ]
    },
    {
     "name": "stdout",
     "output_type": "stream",
     "text": [
      "[0, 1, 1, 2, 3, 5, 8, 13, 21, 34, 55]\n"
     ]
    }
   ],
   "source": [
    "n = int(input(\"Enter the number of Fibonacci series terms needed: \"))\n",
    "list = [0,1]\n",
    "\n",
    "for i in range(n+1):\n",
    "    p=list[i]+list[i+1]\n",
    "    list.append(p)\n",
    "print(list)    \n",
    "    \n",
    "    "
   ]
  },
  {
   "cell_type": "markdown",
   "id": "cd774bf2-da8c-4d1d-a5d8-eecb6fd298c0",
   "metadata": {},
   "source": [
    "# Alternative way"
   ]
  },
  {
   "cell_type": "code",
   "execution_count": 31,
   "id": "0a69371b-407b-4daa-8f3d-b8c19be66eae",
   "metadata": {},
   "outputs": [
    {
     "name": "stdin",
     "output_type": "stream",
     "text": [
      "Enter the number of Fibonacci series terms needed:  5\n"
     ]
    },
    {
     "name": "stdout",
     "output_type": "stream",
     "text": [
      "0 1 1 2 3 "
     ]
    }
   ],
   "source": [
    "def fibonacci_series(n):\n",
    "    a, b = 0, 1\n",
    "    for _ in range(n):\n",
    "        print(a, end=\" \")\n",
    "        a, b = b, a + b\n",
    "\n",
    "# Input from the user\n",
    "n = int(input(\"Enter the number of Fibonacci series terms needed: \"))\n",
    "fibonacci_series(n)\n"
   ]
  },
  {
   "cell_type": "code",
   "execution_count": 12,
   "id": "91010392-7eb5-44e3-81d8-6483c752bd3e",
   "metadata": {},
   "outputs": [
    {
     "name": "stdin",
     "output_type": "stream",
     "text": [
      "Enter the number of Fibonacci series terms needed:  8\n"
     ]
    },
    {
     "name": "stdout",
     "output_type": "stream",
     "text": [
      "0 1 1 2 3 5 8 13 "
     ]
    }
   ],
   "source": [
    "def fibonacci_series(n):\n",
    "    a, b = 0, 1\n",
    "    for i in range(n):\n",
    "        if i == 0:\n",
    "            print(a,end = \" \")  # Print the first term\n",
    "        elif i == 1:\n",
    "            print(b,end = \" \")  # Print the second term\n",
    "        else:\n",
    "            a, b = b, a + b  # Calculate the next term\n",
    "            print(b,end = \" \")  # Print the next term\n",
    "\n",
    "# Input from the user\n",
    "n = int(input(\"Enter the number of Fibonacci series terms needed: \"))\n",
    "fibonacci_series(n)\n"
   ]
  },
  {
   "cell_type": "markdown",
   "id": "7802c4ab-f18e-4fee-9ff0-1a4c3f568c62",
   "metadata": {},
   "source": [
    "# Using the recursion funcation"
   ]
  },
  {
   "cell_type": "code",
   "execution_count": 1,
   "id": "6ae3070b-326a-45b8-878f-450c45915ebc",
   "metadata": {},
   "outputs": [
    {
     "name": "stdout",
     "output_type": "stream",
     "text": [
      "[0, 1, 1, 2, 3, 5, 8, 13, 21, 34]\n"
     ]
    }
   ],
   "source": [
    "def fibonacci(n):\n",
    "    if n <= 0:\n",
    "        return \"Input should be a positive integer\"\n",
    "    elif n == 1:\n",
    "        return 0\n",
    "    elif n == 2:\n",
    "        return 1\n",
    "    else:\n",
    "        return fibonacci(n-1) + fibonacci(n-2)\n",
    "\n",
    "# Print Fibonacci series up to n terms\n",
    "n_terms = 10  # Change this value to generate more terms\n",
    "print([fibonacci(i) for i in range(1, n_terms + 1)])"
   ]
  },
  {
   "cell_type": "markdown",
   "id": "71f4b36c-77ca-449c-9670-9c0cd872accf",
   "metadata": {},
   "source": [
    "# 10) Write a program to check the armstrong number"
   ]
  },
  {
   "cell_type": "markdown",
   "id": "97e448ed-6d08-4a5c-bbe6-71219089cd84",
   "metadata": {},
   "source": [
    "* An Armstrong number (also known as a narcissistic number or pluperfect digital invariant) is a number that is equal to the sum of its own digits each raised to the power of the number of digits.\n",
    "\n",
    "* For example:\n",
    "\n",
    "* 153 is an Armstrong number because:\n",
    "* 1³ + 5³ + 3³ = 153"
   ]
  },
  {
   "cell_type": "code",
   "execution_count": 44,
   "id": "7619845e-2dc9-468a-9e0c-b5c4f87509f3",
   "metadata": {},
   "outputs": [
    {
     "name": "stdin",
     "output_type": "stream",
     "text": [
      "Enter a number to check if it is an Armstrong number:  153\n"
     ]
    },
    {
     "name": "stdout",
     "output_type": "stream",
     "text": [
      "153 is an Armstrong number.\n"
     ]
    }
   ],
   "source": [
    "\n",
    "def is_armstrong_number(num):\n",
    "    digits = str(num)  # numbers to string\n",
    "    power = len(digits)  # Number of digits\n",
    "    sum_of_powers = sum(int(digit) ** power for digit in digits)\n",
    "    \n",
    "    # Check if the number is equal to the sum of its digits raised to the power\n",
    "    return num == sum_of_powers\n",
    "\n",
    "# Input from the user\n",
    "number = int(input(\"Enter a number to check if it is an Armstrong number: \"))\n",
    "\n",
    "# Check and display the result\n",
    "if is_armstrong_number(number):\n",
    "    print(f\"{number} is an Armstrong number.\")\n",
    "else:\n",
    "    print(f\"{number} is not an Armstrong number.\")\n"
   ]
  },
  {
   "cell_type": "code",
   "execution_count": 46,
   "id": "054605d7-cda8-4abe-9e92-1094b0df7a1f",
   "metadata": {},
   "outputs": [
    {
     "data": {
      "text/plain": [
       "True"
      ]
     },
     "execution_count": 46,
     "metadata": {},
     "output_type": "execute_result"
    }
   ],
   "source": [
    "n = 153\n",
    "\n",
    "is_armstrong_number(n)"
   ]
  },
  {
   "cell_type": "code",
   "execution_count": 15,
   "id": "b1c35eee-bb5a-49c9-86b4-6c02bed2333b",
   "metadata": {},
   "outputs": [
    {
     "name": "stdin",
     "output_type": "stream",
     "text": [
      "Enter a number:  370\n"
     ]
    },
    {
     "name": "stdout",
     "output_type": "stream",
     "text": [
      "370 is an Armstrong number.\n"
     ]
    }
   ],
   "source": [
    "def is_armstrong_number(number):\n",
    "    # Make a copy of the original number\n",
    "    original_number = number                                # Simple Logical code\n",
    "    sum_of_powers = 0\n",
    "    \n",
    "    # Loop to extract digits and calculate the sum of powers\n",
    "    while number > 0:\n",
    "        digit = number % 10  # Get the last digit\n",
    "        sum_of_powers += digit ** len(str(original_number))  # Add the digit raised to the power of the number of digits\n",
    "        number //= 10  # Remove the last digit\n",
    "    \n",
    "    # Check if the sum is equal to the original number\n",
    "    return sum_of_powers == original_number\n",
    "\n",
    "# Test the function with a number\n",
    "num = int(input(\"Enter a number: \"))\n",
    "if is_armstrong_number(num):\n",
    "    print(f\"{num} is an Armstrong number.\")\n",
    "else:\n",
    "    print(f\"{num} is not an Armstrong number.\")\n"
   ]
  },
  {
   "cell_type": "code",
   "execution_count": null,
   "id": "ed1f2aae-fca4-4ddd-b661-c7a009ee3999",
   "metadata": {},
   "outputs": [],
   "source": []
  },
  {
   "cell_type": "markdown",
   "id": "7a2e1b56-a5d2-432c-a383-0186ce701c68",
   "metadata": {},
   "source": [
    "# 11) Write a program to find the sum of the natural numbers"
   ]
  },
  {
   "cell_type": "code",
   "execution_count": 48,
   "id": "a11ba3c8-4d37-47d2-a013-f78c57204670",
   "metadata": {},
   "outputs": [
    {
     "name": "stdin",
     "output_type": "stream",
     "text": [
      "Enter the needed numbers sum 2\n"
     ]
    },
    {
     "name": "stdout",
     "output_type": "stream",
     "text": [
      "3\n"
     ]
    }
   ],
   "source": [
    "n = int(input(\"Enter the needed numbers sum\"))\n",
    "sum = 0\n",
    "for i in range(n+1):\n",
    "    sum += i\n",
    "print(sum)\n",
    "    "
   ]
  },
  {
   "cell_type": "code",
   "execution_count": null,
   "id": "47ca9792-3193-47f3-97b6-e8f7f792abd7",
   "metadata": {},
   "outputs": [],
   "source": []
  },
  {
   "cell_type": "markdown",
   "id": "7d60788b-4ef8-4612-870b-05b137f387ad",
   "metadata": {},
   "source": [
    "# 12) Write a program to find the LCM "
   ]
  },
  {
   "cell_type": "markdown",
   "id": "97340290-d741-4b99-a13c-6c48165d00fa",
   "metadata": {},
   "source": [
    "* The Least Common Multiple (LCM) of two numbers is the smallest positive number that is divisible by both numbers. For example:\n",
    "\n",
    "The LCM of 4 and 6 is 12, because 12 is the smallest number that both 4 and 6 divide evenly.\n"
   ]
  },
  {
   "cell_type": "code",
   "execution_count": 50,
   "id": "7c231cb2-cab4-4263-ba38-ce9544663805",
   "metadata": {},
   "outputs": [
    {
     "name": "stdin",
     "output_type": "stream",
     "text": [
      "Enter the first number:  4\n",
      "Enter the second number:  6\n"
     ]
    },
    {
     "name": "stdout",
     "output_type": "stream",
     "text": [
      "The L.C.M. is 12\n"
     ]
    }
   ],
   "source": [
    "# Python Program to find the L.C.M. of two input number\n",
    "def compute_lcm(x, y):\n",
    "    if x > y:  # Choose the greater number\n",
    "        greater = x\n",
    "    else:\n",
    "        greater = y\n",
    "\n",
    "    while True:\n",
    "        if (greater % x == 0) and (greater % y == 0):\n",
    "            lcm = greater\n",
    "            break\n",
    "        greater += 1\n",
    "    return lcm\n",
    "\n",
    "# Input from the user\n",
    "num1 = int(input('Enter the first number: '))\n",
    "num2 = int(input('Enter the second number: '))\n",
    "\n",
    "# Output the result\n",
    "print(\"The L.C.M. is\", compute_lcm(num1, num2))\n"
   ]
  },
  {
   "cell_type": "markdown",
   "id": "a8e0dc95-4846-49bc-8f8f-48b1de36bb90",
   "metadata": {},
   "source": [
    "# Alternative way using inbulit math"
   ]
  },
  {
   "cell_type": "code",
   "execution_count": 52,
   "id": "e42a1af1-39d5-4fd4-85fc-bf41896abbf1",
   "metadata": {},
   "outputs": [
    {
     "name": "stdin",
     "output_type": "stream",
     "text": [
      "Enter the first number:  5\n",
      "Enter the second number:  4\n"
     ]
    },
    {
     "name": "stdout",
     "output_type": "stream",
     "text": [
      "The LCM of 5 and 4 is 20\n"
     ]
    }
   ],
   "source": [
    "import math\n",
    "\n",
    "def find_lcm(a, b):\n",
    "    # Calculate the GCD of the two numbers\n",
    "    gcd = math.gcd(a, b)\n",
    "    \n",
    "    # Calculate the LCM using the formula\n",
    "    lcm = abs(a * b) // gcd\n",
    "    \n",
    "    return lcm\n",
    "\n",
    "# Input: two numbers\n",
    "num1 = int(input(\"Enter the first number: \"))\n",
    "num2 = int(input(\"Enter the second number: \"))\n",
    "\n",
    "# Find and print the LCM\n",
    "lcm = find_lcm(num1, num2)\n",
    "print(f\"The LCM of {num1} and {num2} is {lcm}\")"
   ]
  },
  {
   "cell_type": "code",
   "execution_count": null,
   "id": "42885839-fb25-4592-9a01-9e69a3b953d3",
   "metadata": {},
   "outputs": [],
   "source": []
  },
  {
   "cell_type": "code",
   "execution_count": null,
   "id": "fcd24c8e-5c14-42d7-b4b4-ba8f0bcc9f17",
   "metadata": {},
   "outputs": [],
   "source": [
    "# Function to calculate the LCM\n",
    "def find_lcm(x, y):\n",
    "    # Greater number between x and y\n",
    "    greater = max(x, y)\n",
    "\n",
    "    # Keep checking multiples of the greater number until both x and y divide it\n",
    "    while True:\n",
    "        if greater % x == 0 and greater % y == 0:\n",
    "            lcm = greater\n",
    "            break\n",
    "        greater += 1  # Increment the greater number\n",
    "    return lcm\n",
    "\n",
    "# Input from the user\n",
    "num1 = int(input(\"Enter the first number: \"))\n",
    "num2 = int(input(\"Enter the second number: \"))\n",
    "\n",
    "# Calculate LCM\n",
    "lcm = find_lcm(num1, num2)\n",
    "\n",
    "# Output the result\n",
    "print(f\"The LCM of {num1} and {num2} is {lcm}.\")\n"
   ]
  },
  {
   "cell_type": "markdown",
   "id": "25512db8-d6a0-4b80-9797-8bfdc53316bc",
   "metadata": {},
   "source": [
    "# 14)write a program to find the hcm "
   ]
  },
  {
   "cell_type": "markdown",
   "id": "758467fb-7f98-4955-a45b-2b2a3dd72dcb",
   "metadata": {},
   "source": [
    "* HCF, or Highest Common Factor, is the largest positive integer that divides two or more\n",
    "numbers without leaving a remainder.\n"
   ]
  },
  {
   "cell_type": "code",
   "execution_count": 57,
   "id": "196ec288-73e9-4bc4-9d80-fbef245618d5",
   "metadata": {},
   "outputs": [
    {
     "name": "stdin",
     "output_type": "stream",
     "text": [
      "Enter the first number:  5\n",
      "Enter the second number:  6\n"
     ]
    },
    {
     "name": "stdout",
     "output_type": "stream",
     "text": [
      "The H.C.F. is 1\n"
     ]
    }
   ],
   "source": [
    "\n",
    "def compute_hcf(x, y):\n",
    "    # Choose the smaller number\n",
    "    if x > y:\n",
    "        smaller_num = y\n",
    "    else:\n",
    "        smaller_num = x\n",
    "    \n",
    "    # Iterate from 1 to the smaller number to find the HCF\n",
    "    for i in range(1, smaller_num + 1):\n",
    "        if (x % i == 0) and (y % i == 0):\n",
    "            hcf = i\n",
    "    \n",
    "    return hcf\n",
    "\n",
    "# Input: two numbers\n",
    "num1 = int(input('Enter the first number: '))\n",
    "num2 = int(input('Enter the second number: '))\n",
    "\n",
    "# Compute and print the HCF\n",
    "print(\"The H.C.F. is\", compute_hcf(num1, num2))"
   ]
  },
  {
   "cell_type": "code",
   "execution_count": 60,
   "id": "d8d6842f-4005-4c5a-b49b-3166d3f01f2e",
   "metadata": {},
   "outputs": [
    {
     "name": "stdin",
     "output_type": "stream",
     "text": [
      "Enter the first number:  5\n",
      "Enter the second number:  6\n"
     ]
    },
    {
     "name": "stdout",
     "output_type": "stream",
     "text": [
      "The H.C.F. is 1\n"
     ]
    }
   ],
   "source": [
    "import math\n",
    "\n",
    "def compute_hcf(x, y):\n",
    "    return math.gcd(x, y)\n",
    "\n",
    "# Input: two numbers\n",
    "num1 = int(input('Enter the first number: '))\n",
    "num2 = int(input('Enter the second number: '))\n",
    "\n",
    "# Compute and print the HCF\n",
    "print(\"The H.C.F. is\", compute_hcf(num1, num2))\n"
   ]
  },
  {
   "cell_type": "markdown",
   "id": "61a10cef-e789-4290-8d11-a0fe7928ebbe",
   "metadata": {},
   "source": [
    "# 15) write a python program to make aa simple calculator "
   ]
  },
  {
   "cell_type": "code",
   "execution_count": 63,
   "id": "77cb40be-3edd-44dd-8cbb-9d6bbeabcb1e",
   "metadata": {},
   "outputs": [
    {
     "name": "stdout",
     "output_type": "stream",
     "text": [
      "Select operation:\n",
      "1. Add\n",
      "2. Subtract\n",
      "3. Multiply\n",
      "4. Divide\n"
     ]
    },
    {
     "name": "stdin",
     "output_type": "stream",
     "text": [
      "Enter the number of your choice (1/2/3/4):  3\n",
      "Enter the first number:  5\n",
      "Enter the second number:  5\n"
     ]
    },
    {
     "name": "stdout",
     "output_type": "stream",
     "text": [
      "The result is: 25.0\n"
     ]
    }
   ],
   "source": [
    "# Define the addition function\n",
    "def add(x, y):\n",
    "    return x + y\n",
    "\n",
    "# Define the subtraction function\n",
    "def subtract(x, y):\n",
    "    return x - y\n",
    "\n",
    "# Define the multiplication function\n",
    "def multiply(x, y):\n",
    "    return x * y\n",
    "\n",
    "# Define the divide function\n",
    "def divide(x, y):\n",
    "    if y != 0:\n",
    "        return x / y\n",
    "    else:\n",
    "        return \"Division by zero is not allowed!\"\n",
    "\n",
    "# Define the main calculator function\n",
    "def calculator():\n",
    "    print(\"Select operation:\")\n",
    "    print(\"1. Add\")\n",
    "    print(\"2. Subtract\")\n",
    "    print(\"3. Multiply\")\n",
    "    print(\"4. Divide\")\n",
    "    \n",
    "    # Input the user's choice\n",
    "    choice = input(\"Enter the number of your choice (1/2/3/4): \")\n",
    "    \n",
    "    # Input two numbers\n",
    "    num1 = float(input(\"Enter the first number: \"))\n",
    "    num2 = float(input(\"Enter the second number: \"))\n",
    "    \n",
    "    # Perform the selected operation\n",
    "    if choice == '1':\n",
    "        print(f\"The result is: {add(num1, num2)}\")\n",
    "    elif choice == '2':\n",
    "        print(f\"The result is: {subtract(num1, num2)}\")\n",
    "    elif choice == '3':\n",
    "        print(f\"The result is: {multiply(num1, num2)}\")\n",
    "    elif choice == '4':\n",
    "        print(f\"The result is: {divide(num1, num2)}\")\n",
    "    else:\n",
    "        print(\"Invalid input! Please select a valid operation.\")\n",
    "\n",
    "# Call the calculator function\n",
    "calculator()\n"
   ]
  },
  {
   "cell_type": "markdown",
   "id": "2a66e7fb-45ac-4488-b79a-856e5e599ba1",
   "metadata": {},
   "source": [
    "# Another solution "
   ]
  },
  {
   "cell_type": "code",
   "execution_count": 66,
   "id": "7a7a01f0-5ed5-4ab7-9a32-4416a3fd2aae",
   "metadata": {},
   "outputs": [
    {
     "name": "stdin",
     "output_type": "stream",
     "text": [
      "Enter the first number:  3\n",
      "Enter the second number:  4\n",
      "Enter 1 for addition, 2 for subtraction, 3 for multiplication, 4 for division:  1\n"
     ]
    },
    {
     "name": "stdout",
     "output_type": "stream",
     "text": [
      "The result is: 7\n"
     ]
    }
   ],
   "source": [
    "def calculator(x, y):\n",
    "    a, b, c, d = x + y, x - y, x * y, x / y if y != 0 else \"Division by zero is not allowed!\"\n",
    "    return a, b, c, d\n",
    "\n",
    "# Input numbers\n",
    "num1 = eval(input(\"Enter the first number: \"))\n",
    "num2 = eval(input(\"Enter the second number: \"))\n",
    "\n",
    "# Input choice\n",
    "choice = int(input(\"Enter 1 for addition, 2 for subtraction, 3 for multiplication, 4 for division: \"))\n",
    "\n",
    "# Get results\n",
    "results = calculator(num1, num2)\n",
    "\n",
    "# Output the result based on choice\n",
    "if choice in [1, 2, 3, 4]:\n",
    "    print(f\"The result is: {results[choice - 1]}\")\n",
    "else:\n",
    "    print(\"Invalid choice!\")\n"
   ]
  },
  {
   "cell_type": "code",
   "execution_count": null,
   "id": "7d3851bf-5bc2-4c8d-8296-17942462fe66",
   "metadata": {},
   "outputs": [],
   "source": []
  },
  {
   "cell_type": "code",
   "execution_count": 61,
   "id": "224a86bf-4725-4695-bfc4-4223aca6b14e",
   "metadata": {},
   "outputs": [
    {
     "name": "stdout",
     "output_type": "stream",
     "text": [
      "1. Addition\n",
      "2. Subtraction\n",
      "3. Multiplication\n",
      "4. Division\n"
     ]
    },
    {
     "name": "stdin",
     "output_type": "stream",
     "text": [
      "Enter choice (1/2/3/4):  1\n",
      "Enter first number:  2\n",
      "Enter second number:  3\n"
     ]
    },
    {
     "name": "stdout",
     "output_type": "stream",
     "text": [
      "Result: 5.0\n"
     ]
    }
   ],
   "source": [
    "def calculator():\n",
    "    operations = {'1': lambda x, y: x + y, '2': lambda x, y: x - y, \n",
    "                 '3': lambda x, y: x * y, '4': lambda x, y: x / y if y != 0 else \"Error! Division by zero.\"}\n",
    "    print(\"1. Addition\\n2. Subtraction\\n3. Multiplication\\n4. Division\")\n",
    "    choice = input(\"Enter choice (1/2/3/4): \")\n",
    "    if choice in operations:\n",
    "        num1, num2 = float(input(\"Enter first number: \")), float(input(\"Enter second number: \"))\n",
    "        print(f\"Result: {operations[choice](num1, num2)}\")\n",
    "    else:\n",
    "        print(\"Invalid input.\")\n",
    "\n",
    "calculator()"
   ]
  },
  {
   "cell_type": "code",
   "execution_count": null,
   "id": "8104f3af-88a4-4692-a6d2-db217c67cac1",
   "metadata": {},
   "outputs": [],
   "source": []
  },
  {
   "cell_type": "markdown",
   "id": "81064ecd-f4bc-48a6-942b-e6000f451133",
   "metadata": {},
   "source": [
    "# 16) write a program to calculate the BMI\n"
   ]
  },
  {
   "cell_type": "markdown",
   "id": "7aed4c1d-9b9a-4bfd-b36a-c606c4fbb088",
   "metadata": {},
   "source": [
    "* The formula to calculate BMI is: \n",
    "\n",
    "​* BMI = weight/height \n",
    "\n",
    "Weight: Measured in kilograms (kg).\n",
    "Height: Measured in meters (m).\n",
    "\n",
    "\n",
    "* 18.5\tUnderweight\n",
    "* 18.5 – 24.9\tNormal weight\n",
    "* 25.0 – 29.9\tOverweight\n",
    "* 30.0 – 34.9\tObesity Class 1 (Moderate)\n",
    "* 35.0 – 39.9\tObesity Class 2 (Severe)\n",
    "* ≥ 40.0\tObesity Class 3 (Morbid)"
   ]
  },
  {
   "cell_type": "code",
   "execution_count": 78,
   "id": "98a4f5f6-3857-4662-8cdf-3fcd9c80e95c",
   "metadata": {},
   "outputs": [
    {
     "name": "stdin",
     "output_type": "stream",
     "text": [
      "Enter your weight in kilograms:  70\n",
      "Enter your height in centimeters:  176\n"
     ]
    },
    {
     "name": "stdout",
     "output_type": "stream",
     "text": [
      "Your BMI is: 22.60\n",
      "Category: Normal weight\n"
     ]
    }
   ],
   "source": [
    "# Input from user\n",
    "weight = float(input(\"Enter your weight in kilograms: \"))\n",
    "height_cm = float(input(\"Enter your height in centimeters: \"))\n",
    "\n",
    "# Convert height from cm to meters\n",
    "height_m = height_cm / 100\n",
    "\n",
    "# Calculate BMI\n",
    "bmi = weight / (height_m ** 2)\n",
    "\n",
    "# Categorize BMI\n",
    "if bmi < 18.5:\n",
    "    category = \"Underweight\"\n",
    "elif 18.5 <= bmi < 24.9:\n",
    "    category = \"Normal weight\"\n",
    "elif 25.0 <= bmi < 29.9:\n",
    "    category = \"Overweight\"\n",
    "elif 30.0 <= bmi < 34.9:\n",
    "    category = \"Obesity Class 1 (Moderate)\"\n",
    "elif 35.0 <= bmi < 39.9:\n",
    "    category = \"Obesity Class 2 (Severe)\"\n",
    "else:\n",
    "    category = \"Obesity Class 3 (Morbid)\"\n",
    "\n",
    "# Display the result\n",
    "print(f\"Your BMI is: {bmi:.2f}\")\n",
    "print(f\"Category: {category}\")\n"
   ]
  },
  {
   "cell_type": "code",
   "execution_count": null,
   "id": "54fb649d-b42e-4c44-ae8d-e24137bed11b",
   "metadata": {},
   "outputs": [],
   "source": []
  },
  {
   "cell_type": "code",
   "execution_count": 72,
   "id": "4799f8ea-eb52-4f71-9bb2-698a3611722f",
   "metadata": {},
   "outputs": [
    {
     "name": "stdin",
     "output_type": "stream",
     "text": [
      "Enter your weight in kilograms:  70\n",
      "Enter your height in meters:  17\n"
     ]
    },
    {
     "name": "stdout",
     "output_type": "stream",
     "text": [
      "Your BMI is: 0.24\n",
      "Category: Underweight\n"
     ]
    }
   ],
   "source": [
    "def calculate_bmi(weight, height):\n",
    "    \"\"\"Calculate BMI using the formula.\"\"\"\n",
    "    return weight / (height ** 2)\n",
    "\n",
    "def categorize_bmi(bmi):\n",
    "    \"\"\"Categorize BMI based on standard ranges.\"\"\"\n",
    "    if bmi < 18.5:\n",
    "        return \"Underweight\"\n",
    "    elif 18.5 <= bmi < 24.9:\n",
    "        return \"Normal weight\"\n",
    "    elif 25.0 <= bmi < 29.9:\n",
    "        return \"Overweight\"\n",
    "    elif 30.0 <= bmi < 34.9:\n",
    "        return \"Obesity Class 1 (Moderate)\"\n",
    "    elif 35.0 <= bmi < 39.9:\n",
    "        return \"Obesity Class 2 (Severe)\"\n",
    "    else:\n",
    "        return \"Obesity Class 3 (Morbid)\"\n",
    "\n",
    "# Input from user\n",
    "weight = float(input(\"Enter your weight in kilograms: \"))\n",
    "height = float(input(\"Enter your height in meters: \"))\n",
    "\n",
    "# Calculate BMI\n",
    "bmi = calculate_bmi(weight, height)\n",
    "\n",
    "# Categorize BMI\n",
    "category = categorize_bmi(bmi)\n",
    "\n",
    "# Display the result\n",
    "print(f\"Your BMI is: {bmi:.2f}\")\n",
    "print(f\"Category: {category}\")\n"
   ]
  },
  {
   "cell_type": "code",
   "execution_count": null,
   "id": "42803bd7-d964-41af-90f1-2172595bab6a",
   "metadata": {},
   "outputs": [],
   "source": []
  },
  {
   "cell_type": "markdown",
   "id": "e656b1b1-f050-4ec7-ac8d-bd9b8727d1e8",
   "metadata": {},
   "source": [
    "# 17)write a  program to find a largest element in a list "
   ]
  },
  {
   "cell_type": "code",
   "execution_count": 84,
   "id": "f99e7b69-3cd6-4d00-9861-935b5a570877",
   "metadata": {},
   "outputs": [
    {
     "name": "stdout",
     "output_type": "stream",
     "text": [
      "The largest number is: 5\n"
     ]
    }
   ],
   "source": [
    "list = [1, 2, 3, 4, 5]\n",
    "largest_no = list[0]  \n",
    "for i in list:\n",
    "    if i > largest_no:\n",
    "        largest_no = i\n",
    "print(\"The largest number is:\", largest_no) "
   ]
  },
  {
   "cell_type": "code",
   "execution_count": 89,
   "id": "ed8440c0-b71e-4311-86c1-a5fc7b1d0250",
   "metadata": {},
   "outputs": [
    {
     "name": "stdout",
     "output_type": "stream",
     "text": [
      "10\n"
     ]
    }
   ],
   "source": [
    "list = [2,4,6,8,10]\n",
    "largest =list [0]\n",
    "for  i in list:\n",
    "    if i>largest:\n",
    "        largest = i\n",
    "print(largest)"
   ]
  },
  {
   "cell_type": "code",
   "execution_count": 97,
   "id": "c3d36168-5c8b-4c81-be90-29967b05b300",
   "metadata": {},
   "outputs": [
    {
     "data": {
      "text/plain": [
       "9"
      ]
     },
     "execution_count": 97,
     "metadata": {},
     "output_type": "execute_result"
    }
   ],
   "source": [
    "def largest_num(n):\n",
    "    largest = 0\n",
    "    for i in n:\n",
    "        if i > largest:\n",
    "            largest = i\n",
    "    return largest\n",
    "            \n",
    "# example usage \n",
    "n = [1,2,3,4,5,6,7,9]\n",
    "largest_num(n)"
   ]
  },
  {
   "cell_type": "code",
   "execution_count": null,
   "id": "2fd0575a-3923-42bd-bb6a-9159066cf28d",
   "metadata": {},
   "outputs": [],
   "source": []
  },
  {
   "cell_type": "markdown",
   "id": "a96336bc-8d8b-40af-9741-605af3ba56e5",
   "metadata": {},
   "source": [
    "# 18)write a program to sort words in the alphabetic order\n"
   ]
  },
  {
   "cell_type": "code",
   "execution_count": 100,
   "id": "782e53f9-b560-41a8-997a-e85e870b2f51",
   "metadata": {},
   "outputs": [
    {
     "name": "stdin",
     "output_type": "stream",
     "text": [
      "Enter a string:  hai bro \n"
     ]
    },
    {
     "name": "stdout",
     "output_type": "stream",
     "text": [
      "The sorted words are:\n",
      "bro\n",
      "hai\n"
     ]
    }
   ],
   "source": [
    "# Program to sort alphabetically the words from a string\n",
    "my_str = input(\"Enter a string: \")\n",
    "\n",
    "# Break down the string into a list of words\n",
    "words = my_str.split()\n",
    "\n",
    "# Sort the list in a case-insensitive manner\n",
    "words.sort()\n",
    "\n",
    "# Display the sorted words\n",
    "print(\"The sorted words are:\")\n",
    "for word in words:\n",
    "    print(word)\n"
   ]
  },
  {
   "cell_type": "code",
   "execution_count": 101,
   "id": "2b06f84f-22ee-445b-a7fc-3db06695f1bc",
   "metadata": {},
   "outputs": [
    {
     "name": "stdout",
     "output_type": "stream",
     "text": [
      "Sorted words (inbuilt method): ['Sorting', 'alphabetically', 'and', 'educational', 'fun', 'is', 'words']\n"
     ]
    }
   ],
   "source": [
    "# Using inbuilt method\n",
    "sentence = \"Sorting words alphabetically is fun and educational\"\n",
    "words = sentence.split()  # Split the sentence into words\n",
    "words.sort()  # Sort words alphabetically using the inbuilt method\n",
    "print(\"Sorted words (inbuilt method):\", words)\n"
   ]
  },
  {
   "cell_type": "code",
   "execution_count": null,
   "id": "1ea74240-e1bb-43ae-82bd-d5c798797a96",
   "metadata": {},
   "outputs": [],
   "source": []
  },
  {
   "cell_type": "markdown",
   "id": "a380365f-90b5-4631-ba23-3cc855c68142",
   "metadata": {},
   "source": [
    "# 19) write a program to remove the punctuations in the string"
   ]
  },
  {
   "cell_type": "code",
   "execution_count": 112,
   "id": "d895eeb3-fcb8-481b-b091-578625094893",
   "metadata": {},
   "outputs": [],
   "source": [
    "import warnings\n",
    "warnings.filterwarnings('ignore')\n"
   ]
  },
  {
   "cell_type": "code",
   "execution_count": 113,
   "id": "4da9f677-67bd-46a9-bf69-c9a11afa2c2c",
   "metadata": {},
   "outputs": [
    {
     "name": "stdin",
     "output_type": "stream",
     "text": [
      "Enter a string:  haugdgtyteh!@#$%^&*()_+98yhai\n"
     ]
    },
    {
     "name": "stdout",
     "output_type": "stream",
     "text": [
      "String without punctuation: haugdgtyteh+98yhai\n"
     ]
    }
   ],
   "source": [
    "# Define punctuation\n",
    "punctuations = '''!()-[]{};:'\"\\,<>./?@#$%^&*_~'''\n",
    "\n",
    "# Take input from the user\n",
    "my_str = input(\"Enter a string: \")\n",
    "\n",
    "# Remove punctuation from the string\n",
    "no_punct = \"\"\n",
    "for char in my_str:\n",
    "    if char not in punctuations:  # Proper indentation\n",
    "        no_punct +=char\n",
    "\n",
    "# Display the unpunctuated string\n",
    "print(\"String without punctuation:\", no_punct)\n"
   ]
  },
  {
   "cell_type": "code",
   "execution_count": null,
   "id": "4d1de56d-26c7-4d3b-ab41-53f938c6498b",
   "metadata": {},
   "outputs": [],
   "source": []
  },
  {
   "cell_type": "code",
   "execution_count": 114,
   "id": "9efd518a-0b04-4427-bb7a-534ec13f3e8e",
   "metadata": {},
   "outputs": [
    {
     "name": "stdout",
     "output_type": "stream",
     "text": [
      "Cleaned text (using regex): Hello guys how are u1223883e2__1\n"
     ]
    }
   ],
   "source": [
    "import re\n",
    "\n",
    "def remove_punctuation_regex(text):\n",
    "    # Use regex to substitute punctuation with an empty string\n",
    "    return re.sub(r'[^\\w\\s]', '', text)   # sub search for the \\w word in the a to z ,Ato Z, 0 to 9 ,-\n",
    "                                          # \\s that Matches any whitespace character (spaces, tabs, etc.) \n",
    "             # ^: A caret inside square brackets negates the match. So, [^...] matches anything not inside the brackets.\n",
    "# Example usage\n",
    "text = \"Hello guys how are u!#$%^*1223^&883e2__1-'\\\n",
    "'\\]\\;\"\n",
    "cleaned_text = remove_punctuation_regex(text)\n",
    "print(\"Cleaned text (using regex):\", cleaned_text)"
   ]
  },
  {
   "cell_type": "code",
   "execution_count": null,
   "id": "8fa2c3e9-c202-48fa-9902-0f3b0c30ad91",
   "metadata": {},
   "outputs": [],
   "source": []
  },
  {
   "cell_type": "code",
   "execution_count": 115,
   "id": "3f936c1c-5526-4bfc-aa11-156538621926",
   "metadata": {},
   "outputs": [
    {
     "name": "stdout",
     "output_type": "stream",
     "text": [
      "Cleaned text (using built-in methods): Hello world This is a test with some punctuation\n"
     ]
    }
   ],
   "source": [
    "import string\n",
    "\n",
    "def remove_punctuation(text):\n",
    "    # Create a translation table to remove punctuation\n",
    "    translator = str.maketrans('', '', string.punctuation)\n",
    "    # Use translate() to remove punctuation\n",
    "    return text.translate(translator)\n",
    "\n",
    "# Example usage\n",
    "text = \"Hello, world! This is a test: with some punctuation.\"\n",
    "cleaned_text = remove_punctuation(text)\n",
    "print(\"Cleaned text (using built-in methods):\", cleaned_text)"
   ]
  },
  {
   "cell_type": "code",
   "execution_count": null,
   "id": "53be43cb-8d56-4258-bcde-c48e0599e50a",
   "metadata": {},
   "outputs": [],
   "source": []
  },
  {
   "cell_type": "markdown",
   "id": "9765d066-f21a-4d92-bc5d-1fd53b98de65",
   "metadata": {},
   "source": [
    "# 20) write a program to check the given number is happy number or not\n"
   ]
  },
  {
   "cell_type": "markdown",
   "id": "65cbf302-867a-4c54-b27f-43947d3ba13c",
   "metadata": {},
   "source": [
    "* Happy Number: A Happy Number is a positive integer that, when you repeatedly replace\n",
    "the number by the sum of the squares of its digits and continue the process, eventually\n",
    "reaches 1. If the process never reaches 1 but instead loops endlessly in a cycle, the number\n",
    "is not a Happy Number\n",
    "### Explanation: Why 19 is a Happy Number\r\n",
    "\r\n",
    "The process of checking if **19** is a Happy Number involves repeatedly summing the squares of its digits until it either reaches **1** (happy number) or enters a cycle (not a happy number). Here's the step-by-step breakdown:\r\n",
    "\r\n",
    "1. **Step 1**: Start with the number **19**.\r\n",
    "   * \\(1^* + 9^2 = 1 + 81 = 82\\)\r\n",
    "\r\n",
    "2. **Step 2**: Take the result (**82**) and sum the squares of its digits.\r\n",
    "*  - \\*8^2 + 2^2 = 64 + 4 = 68\\)\r\n",
    "\r\n",
    "3. **Step 3**: Take the result (**68**) and sum the squares of its digits*\r\n",
    "   * \\(6^2 + 8^2 = 36 + 64 = 100\\)\r\n",
    "\r\n",
    "4. **Step 4**: Take the result (**100**) and sum the squares of its dig*ts.\r\n",
    "*  - \\*1^2 + 0^2 + 0^2 = 1 + 0 + 0 = 1\\)\r\n",
    "\r\n",
    "Since the process eventually reaches **1**, the number **19** is a **Happy Number**."
   ]
  },
  {
   "cell_type": "code",
   "execution_count": 130,
   "id": "8d01934e-4b0d-4e37-a34b-04cda317dc9e",
   "metadata": {},
   "outputs": [
    {
     "name": "stdin",
     "output_type": "stream",
     "text": [
      "Enter a number:  1\n"
     ]
    },
    {
     "name": "stdout",
     "output_type": "stream",
     "text": [
      "1 is a Happy Number\n"
     ]
    }
   ],
   "source": [
    "def is_happy_number(num):\n",
    "    seen = set()  # To store previously seen numbers\n",
    "\n",
    "    while num != 1 and num not in seen:\n",
    "        seen.add(num)\n",
    "        num = sum(int(i) ** 2 for i in str(num))  # Sum of squares of digits\n",
    "\n",
    "    return num == 1\n",
    "\n",
    "# Test the function with a number\n",
    "num = int(input(\"Enter a number: \"))\n",
    "if is_happy_number(num):\n",
    "    print(f\"{num} is a Happy Number\")\n",
    "else:\n",
    "    print(f\"{num} is not a Happy Number\")\n"
   ]
  },
  {
   "cell_type": "code",
   "execution_count": 133,
   "id": "7304d2eb-91ec-41b5-81de-30bc3ccfdefa",
   "metadata": {},
   "outputs": [
    {
     "name": "stdin",
     "output_type": "stream",
     "text": [
      "Enter a number:  1\n"
     ]
    },
    {
     "name": "stdout",
     "output_type": "stream",
     "text": [
      "1 is a happy number!\n"
     ]
    }
   ],
   "source": [
    "def is_happy_number_recursive(num, seen=None):\n",
    "    if seen is None:\n",
    "        seen = set()\n",
    "    if num == 1:\n",
    "        return True\n",
    "    if num in seen:\n",
    "        return False\n",
    "    seen.add(num)\n",
    "    num = sum(int(digit) ** 2 for digit in str(num))  # Ensure int refers to the built-in function\n",
    "    return is_happy_number_recursive(num, seen)\n",
    "\n",
    "# Test the function\n",
    "number = int(input(\"Enter a number: \"))  # Ensure int here is not overwritten\n",
    "if is_happy_number_recursive(number):\n",
    "    print(f\"{number} is a happy number!\")\n",
    "else:\n",
    "    print(f\"{number} is not a happy number!\")\n"
   ]
  },
  {
   "cell_type": "code",
   "execution_count": null,
   "id": "55c5f3b6-eddb-4289-be35-e4cae2109476",
   "metadata": {},
   "outputs": [],
   "source": []
  },
  {
   "cell_type": "markdown",
   "id": "d30aabd0-ff74-4de6-9b63-3e3652d2e702",
   "metadata": {},
   "source": [
    "# 21) write a program to multiple all the number in the list"
   ]
  },
  {
   "cell_type": "code",
   "execution_count": 26,
   "id": "72524dc0-7de1-430b-bd2b-5bf1a4d0f2e8",
   "metadata": {},
   "outputs": [
    {
     "name": "stdout",
     "output_type": "stream",
     "text": [
      "14\n"
     ]
    }
   ],
   "source": [
    "list = [1,2,7]\n",
    "a = 1\n",
    "for i in list:\n",
    "    a *= i\n",
    "print(a)\n",
    "    "
   ]
  },
  {
   "cell_type": "markdown",
   "id": "5d8787b6-cb99-49ef-977b-e0187bba6502",
   "metadata": {},
   "source": [
    "# Alternative way"
   ]
  },
  {
   "cell_type": "code",
   "execution_count": 2,
   "id": "3a3d5ad1-ce2c-4aae-a1c3-ae56cac37b3c",
   "metadata": {},
   "outputs": [
    {
     "name": "stdout",
     "output_type": "stream",
     "text": [
      "Sum of elements in the list: 12000000\n"
     ]
    }
   ],
   "source": [
    "# Sample list of numbers\n",
    "numbers = [10, 20, 30, 40, 50]\n",
    "# Initialize a variable to store the sum\n",
    "sum_of_numbers = 1\n",
    "# Iterate through the list and accumulate the sum\n",
    "for i in numbers:\n",
    " sum_of_numbers *= i\n",
    "# Print the sum\n",
    "print(\"Sum of elements in the list:\", sum_of_numbers)"
   ]
  },
  {
   "cell_type": "markdown",
   "id": "c1ccd8e0-fb8f-46e2-be61-cd9cba0e6935",
   "metadata": {},
   "source": [
    "# 22) write a program to find the duplicates in the list"
   ]
  },
  {
   "cell_type": "code",
   "execution_count": 13,
   "id": "f4a770a4-d9b2-48ab-8d91-d861b87b3bf0",
   "metadata": {},
   "outputs": [
    {
     "name": "stdout",
     "output_type": "stream",
     "text": [
      "1 0 "
     ]
    }
   ],
   "source": [
    "my_list = [1, 2, 3, 1 ,0,0]\n",
    "d = []\n",
    "for i in my_list:\n",
    "    if i not in d:  \n",
    "        d.append(i) \n",
    "    else:\n",
    "        print(i,end=\" \") \n"
   ]
  },
  {
   "cell_type": "code",
   "execution_count": 5,
   "id": "d6b35bb9-69e2-4f49-aa76-d86c7add1429",
   "metadata": {},
   "outputs": [
    {
     "name": "stdout",
     "output_type": "stream",
     "text": [
      "Duplicates: [2, 5]\n"
     ]
    }
   ],
   "source": [
    "def find_duplicates(input_list):\n",
    "    duplicates = []\n",
    "    for i in range(len(input_list)):\n",
    "        for j in range(i + 1, len(input_list)):\n",
    "            if input_list[i] == input_list[j] and input_list[i] not in duplicates:\n",
    "                duplicates.append(input_list[i])\n",
    "    return duplicates\n",
    "\n",
    "# Example usage\n",
    "my_list = [1, 2, 3, 2, 4, 5, 5, 6]\n",
    "duplicates = find_duplicates(my_list)\n",
    "print(\"Duplicates:\", duplicates)\n"
   ]
  },
  {
   "cell_type": "code",
   "execution_count": 4,
   "id": "7749ec12-3cec-4627-ac22-84ad31865309",
   "metadata": {},
   "outputs": [
    {
     "name": "stdout",
     "output_type": "stream",
     "text": [
      "Duplicates: [1]\n"
     ]
    }
   ],
   "source": [
    "lst = [1, 2, 3, 4, 5, 6, 1, 27]\n",
    "seen = set()  \n",
    "duplicates = []\n",
    "\n",
    "for i in lst:\n",
    "    if i in seen:\n",
    "        duplicates.append(i) \n",
    "    else:\n",
    "        seen.add(i) \n",
    "\n",
    "print(\"Duplicates:\", duplicates)\n",
    "\n"
   ]
  },
  {
   "cell_type": "code",
   "execution_count": null,
   "id": "b5984879-86ba-4e91-b866-5f4367b0c231",
   "metadata": {},
   "outputs": [],
   "source": []
  },
  {
   "cell_type": "markdown",
   "id": "f8bd43ac-b5cf-48a3-841f-c31e62a84742",
   "metadata": {},
   "source": [
    "# 23) Write a program to print sum between the starting and the ending in list\n"
   ]
  },
  {
   "cell_type": "code",
   "execution_count": 7,
   "id": "905109c0-fc69-44a3-b5fa-e7a80a8c787b",
   "metadata": {},
   "outputs": [
    {
     "name": "stdout",
     "output_type": "stream",
     "text": [
      "Try programiz.pro\n"
     ]
    },
    {
     "name": "stdin",
     "output_type": "stream",
     "text": [
      "Enter the starting value 6\n",
      "Enter the ending value 7\n"
     ]
    },
    {
     "name": "stdout",
     "output_type": "stream",
     "text": [
      "[6, 7]\n",
      "13\n"
     ]
    }
   ],
   "source": [
    "\n",
    "s = int(input(\"Enter the starting value\")) \n",
    "e = int(input(\"Enter the ending value\"))\n",
    "b = 0\n",
    "list = []\n",
    "for i in range(10000):\n",
    "    list.append(i)\n",
    "\n",
    "\n",
    "a = list[s: e+1: 1]\n",
    "print(a)\n",
    "for i in a:\n",
    "    b = b + i \n",
    "print(b)"
   ]
  },
  {
   "cell_type": "code",
   "execution_count": null,
   "id": "1a979e40-5bab-4c3e-8e99-af6ec488e343",
   "metadata": {},
   "outputs": [],
   "source": []
  },
  {
   "cell_type": "markdown",
   "id": "6e19367f-b0a0-49e4-93f6-5c958f1e72ad",
   "metadata": {},
   "source": [
    "# 24) write a program to find the smallest number in the list"
   ]
  },
  {
   "cell_type": "code",
   "execution_count": 37,
   "id": "ef2a9156-9a08-47ae-a5d4-c6a9823f591e",
   "metadata": {},
   "outputs": [
    {
     "name": "stdout",
     "output_type": "stream",
     "text": [
      "1\n"
     ]
    }
   ],
   "source": [
    "list = [1,2,3,45]\n",
    "small = 1\n",
    "for i in list:\n",
    "    if i < small:\n",
    "        small =i\n",
    "\n",
    "\n",
    "print(small)"
   ]
  },
  {
   "cell_type": "markdown",
   "id": "8414b10e-9d67-4090-9339-dc74bd2b9ad4",
   "metadata": {},
   "source": [
    "# 25) Write a program to find the n number of the largest number from the list"
   ]
  },
  {
   "cell_type": "code",
   "execution_count": 39,
   "id": "568d5c07-c88d-4f31-bed2-96116d055107",
   "metadata": {},
   "outputs": [
    {
     "name": "stdin",
     "output_type": "stream",
     "text": [
      "N =  8\n"
     ]
    },
    {
     "name": "stdout",
     "output_type": "stream",
     "text": [
      "The 8 largest elements in the list are: [345, 100, 98, 87, 67, 54, 50, 45]\n"
     ]
    }
   ],
   "source": [
    "def find_n_largest_elements(lst, n):\n",
    " \n",
    " sorted_lst = sorted(lst, reverse=True)\n",
    "\n",
    " \n",
    " largest_elements = sorted_lst[:n]\n",
    "\n",
    " return largest_elements\n",
    "numbers = [30, 10, 45, 5, 20, 50, 15, 3, 345, 54, 67, 87, 98, 100, 34]\n",
    "N = int(input(\"N = \" ))\n",
    "result = find_n_largest_elements(numbers, N)\n",
    "print(f\"The {N} largest elements in the list are:\", result)"
   ]
  },
  {
   "cell_type": "code",
   "execution_count": null,
   "id": "9db705ef-3c27-4d23-a655-74ef9d6d7db2",
   "metadata": {},
   "outputs": [],
   "source": []
  },
  {
   "cell_type": "code",
   "execution_count": 44,
   "id": "5ced7f74-eece-4779-905c-3e12086c651a",
   "metadata": {},
   "outputs": [
    {
     "name": "stdin",
     "output_type": "stream",
     "text": [
      "N =  6\n"
     ]
    },
    {
     "name": "stdout",
     "output_type": "stream",
     "text": [
      "The 6 largest elements in the list are: [345, 100, 98, 87, 67, 54]\n"
     ]
    }
   ],
   "source": [
    "def find_n_largest_elements(lst, n):\n",
    "    largest_elements = []\n",
    "    for _ in range(n):\n",
    "        # Find the maximum element in the list\n",
    "        max_element = max(lst)\n",
    "        largest_elements.append(max_element)\n",
    "        # Remove the maximum element from the list\n",
    "        lst.remove(max_element)\n",
    "    return largest_elements\n",
    "\n",
    "numbers = [30, 10, 45, 5, 20, 50, 15, 3, 345, 54, 67, 87, 98, 100, 34]\n",
    "N = int(input(\"N = \"))\n",
    "result = find_n_largest_elements(numbers, N)\n",
    "print(f\"The {N} largest elements in the list are:\", result)\n"
   ]
  },
  {
   "cell_type": "code",
   "execution_count": null,
   "id": "dce64052-2ce4-4dd4-965c-c217fa826d82",
   "metadata": {},
   "outputs": [],
   "source": []
  },
  {
   "cell_type": "markdown",
   "id": "76b0a7f7-9fe8-45ca-95c3-2811dd8e2e27",
   "metadata": {},
   "source": [
    "# 26) Write a program to count the occurrences of the element in the list"
   ]
  },
  {
   "cell_type": "code",
   "execution_count": 48,
   "id": "415489b2-b5e3-4a35-985b-c5e4ef1db9e5",
   "metadata": {},
   "outputs": [
    {
     "name": "stdout",
     "output_type": "stream",
     "text": [
      "The element 2 appears 3 times in list\n"
     ]
    }
   ],
   "source": [
    "def count_occurrences(l, element):\n",
    " count = l.count(element)\n",
    " return count\n",
    "# Example usage:\n",
    "my_list = [1, 2, 3, 4, 2, 5, 2, 3, 4, 6, 5]\n",
    "element_to_count = 2\n",
    "occurrences = count_occurrences(my_list, element_to_count)\n",
    "print(f\"The element {element_to_count} appears {occurrences} times in list\")"
   ]
  },
  {
   "cell_type": "code",
   "execution_count": 49,
   "id": "853da8a4-3807-4bfb-a5ea-e3d30ddadc90",
   "metadata": {},
   "outputs": [
    {
     "name": "stdout",
     "output_type": "stream",
     "text": [
      "The element 2 appears 3 times in the list.\n"
     ]
    }
   ],
   "source": [
    "def count_occurrences(l, element):\n",
    "    count = 0\n",
    "    for i in l:\n",
    "        if i == element:\n",
    "            count += 1\n",
    "    return count\n",
    "\n",
    "# Example usage:\n",
    "my_list = [1, 2, 3, 4, 2, 5, 2, 3, 4, 6, 5]\n",
    "element_to_count = 2\n",
    "occurrences = count_occurrences(my_list, element_to_count)\n",
    "print(f\"The element {element_to_count} appears {occurrences} times in the list.\")\n"
   ]
  },
  {
   "cell_type": "code",
   "execution_count": null,
   "id": "52f35c97-0f6f-43eb-8c99-ee531d7d2239",
   "metadata": {},
   "outputs": [],
   "source": []
  },
  {
   "cell_type": "markdown",
   "id": "b9223fd6-be60-4d91-87b6-f7378e01b672",
   "metadata": {},
   "source": [
    "# 27) Write a program split and join the string"
   ]
  },
  {
   "cell_type": "code",
   "execution_count": 56,
   "id": "f1b49bcd-d345-4fc6-b483-e9526ca80d7d",
   "metadata": {},
   "outputs": [
    {
     "name": "stdout",
     "output_type": "stream",
     "text": [
      "sri hari\n"
     ]
    }
   ],
   "source": [
    "str = \"sri hari\"\n",
    "a = str.split()\n",
    "for i in a:\n",
    "    b = \" \".join(a)\n",
    "print(b)\n"
   ]
  },
  {
   "cell_type": "code",
   "execution_count": null,
   "id": "dc0729f8-55a1-47e9-aa10-ca4dcd588cae",
   "metadata": {},
   "outputs": [],
   "source": []
  },
  {
   "cell_type": "markdown",
   "id": "394e2a26-bf0a-46a4-85ee-83468ae62f44",
   "metadata": {},
   "source": [
    "# 28) write a program to find the sum of two iteration is equal to given sum"
   ]
  },
  {
   "cell_type": "code",
   "execution_count": 74,
   "id": "30110374-0056-4eb7-889c-75894421e2d8",
   "metadata": {},
   "outputs": [
    {
     "name": "stdout",
     "output_type": "stream",
     "text": [
      "0 3\n",
      "1 2\n"
     ]
    }
   ],
   "source": [
    "n = [1,2,3,4,5,6,7,8]\n",
    "iteration = 5\n",
    "for i in range(len(n)):\n",
    "    for j in range(i+1,len(n)):\n",
    "        if n[i] + n[j] ==iteration:\n",
    "            print(i,j)\n",
    "        \n",
    "        \n",
    "        "
   ]
  },
  {
   "cell_type": "code",
   "execution_count": null,
   "id": "af795c6c-3a5f-4f3e-9611-80afdb991f96",
   "metadata": {},
   "outputs": [],
   "source": []
  },
  {
   "cell_type": "code",
   "execution_count": 94,
   "id": "0d1be590-d112-44d0-bd78-8ad82cf80639",
   "metadata": {},
   "outputs": [
    {
     "name": "stdin",
     "output_type": "stream",
     "text": [
      "Enter the target sum:  4\n"
     ]
    },
    {
     "name": "stdout",
     "output_type": "stream",
     "text": [
      "Pairs with the given sum:\n",
      "(1, 3)\n"
     ]
    }
   ],
   "source": [
    "def find_pairs_with_sum(lst, target_sum):\n",
    "    pairs = []\n",
    "    for i in range(len(lst)):\n",
    "        for j in range(i + 1, len(lst)):\n",
    "            if lst[i] + lst[j] == target_sum:\n",
    "                pairs.append((lst[i], lst[j]))\n",
    "    return pairs\n",
    "\n",
    "# Example usage:\n",
    "numbers = [1, 2, 3, 4, 5, 6, 7, 8]\n",
    "target_sum = int(input(\"Enter the target sum: \"))\n",
    "result = find_pairs_with_sum(numbers, target_sum)\n",
    "if result:\n",
    "    print(\"Pairs with the given sum:\")\n",
    "    for pair in result:\n",
    "        print(pair)\n",
    "else:\n",
    "    print(\"No pairs found with the given sum.\")\n"
   ]
  },
  {
   "cell_type": "code",
   "execution_count": null,
   "id": "36361e71-3318-4123-98b2-1875a3d708c7",
   "metadata": {},
   "outputs": [],
   "source": []
  },
  {
   "cell_type": "markdown",
   "id": "6d97be54-d760-40c5-8c6f-91bf5562d383",
   "metadata": {},
   "source": [
    "# 29) write a program to check the string is palindrome or not "
   ]
  },
  {
   "cell_type": "code",
   "execution_count": 96,
   "id": "5e2f3785-7bd7-441b-8b34-e52a94f2a9b1",
   "metadata": {},
   "outputs": [
    {
     "name": "stdout",
     "output_type": "stream",
     "text": [
      "not a palindrome\n"
     ]
    }
   ],
   "source": [
    "str  = \"Srihari\"\n",
    "a = str.lower()\n",
    "b=str[: :-1]\n",
    "if a==b:\n",
    "    print(\"palindrome\")\n",
    "else:\n",
    "    print(\"not a palindrome\")"
   ]
  },
  {
   "cell_type": "code",
   "execution_count": null,
   "id": "202aa882-9091-4fc1-b0dc-2483e87826aa",
   "metadata": {},
   "outputs": [],
   "source": []
  },
  {
   "cell_type": "code",
   "execution_count": 1,
   "id": "e29fc1dc-59b0-4b6a-a5a5-8d470287a3e6",
   "metadata": {},
   "outputs": [
    {
     "name": "stdin",
     "output_type": "stream",
     "text": [
      "Enter a string to check if it is a palindrome:  12321#\n"
     ]
    },
    {
     "name": "stdout",
     "output_type": "stream",
     "text": [
      "\"12321#\" is a palindrome.\n"
     ]
    }
   ],
   "source": [
    "import re\n",
    "\n",
    "def is_palindrome(string):\n",
    "\n",
    "    string = re.sub(r\"[^a-zA-Z0-9]\", \"\", string)\n",
    "    string = string.lower()\n",
    "\n",
    "    return string == string[::-1]\n",
    "user_input = input(\"Enter a string to check if it is a palindrome: \")\n",
    "if is_palindrome(user_input):\n",
    "    print(f'\"{user_input}\" is a palindrome.')\n",
    "else:\n",
    "    print(f'\"{user_input}\" is not a palindrome.')"
   ]
  },
  {
   "cell_type": "code",
   "execution_count": null,
   "id": "325e7fad-b859-4312-b4be-6d68119d05a2",
   "metadata": {},
   "outputs": [],
   "source": []
  },
  {
   "cell_type": "markdown",
   "id": "62315024-812f-49b7-b290-bcdf82ba533f",
   "metadata": {},
   "source": [
    "# 30) Write a program to print the len of the string and list with out using the inbuilt function"
   ]
  },
  {
   "cell_type": "code",
   "execution_count": null,
   "id": "4909d02f-fd11-4000-a4b7-f35b4de3f547",
   "metadata": {},
   "outputs": [],
   "source": []
  },
  {
   "cell_type": "code",
   "execution_count": 26,
   "id": "a5c2f0c7-cbb8-4f66-a5ae-0f077055ab06",
   "metadata": {},
   "outputs": [
    {
     "name": "stdout",
     "output_type": "stream",
     "text": [
      "5\n"
     ]
    }
   ],
   "source": [
    "# By using the list\n",
    "\n",
    "list = [1,2,3,4,5]\n",
    "count = 0\n",
    "for i in list:\n",
    "    \n",
    "    count = i\n",
    "print(count)"
   ]
  },
  {
   "cell_type": "code",
   "execution_count": 18,
   "id": "1b79554c-86db-4762-89ec-e4d93a4d5d12",
   "metadata": {},
   "outputs": [
    {
     "data": {
      "text/plain": [
       "5"
      ]
     },
     "execution_count": 18,
     "metadata": {},
     "output_type": "execute_result"
    }
   ],
   "source": [
    "len(list)"
   ]
  },
  {
   "cell_type": "code",
   "execution_count": 24,
   "id": "cf079edf-4d4d-4c0f-b160-9602eff0e0ff",
   "metadata": {},
   "outputs": [
    {
     "name": "stdout",
     "output_type": "stream",
     "text": [
      "7\n"
     ]
    }
   ],
   "source": [
    "# by using the string\n",
    "str = \"Srihari\"\n",
    "count = 0\n",
    "for i in str:\n",
    "    count += 1  # Increment count by 1 for each character\n",
    "print(count)\n"
   ]
  },
  {
   "cell_type": "markdown",
   "id": "86c79f80-ab6f-46b5-9cc6-05b2c488c8e6",
   "metadata": {},
   "source": [
    "# 31) Write a command to open the text file in the write with mode"
   ]
  },
  {
   "cell_type": "code",
   "execution_count": 111,
   "id": "2bb015d8-959a-4fab-80f0-ca10cab91c7c",
   "metadata": {},
   "outputs": [],
   "source": [
    "file = open(\"filename.txt\", \"w\")\n"
   ]
  },
  {
   "cell_type": "code",
   "execution_count": 112,
   "id": "7a3de825-d056-4f8b-8134-35dfd13a0521",
   "metadata": {},
   "outputs": [],
   "source": [
    "# Open a file in write mode\n",
    "file = open(\"example.txt\", \"w\")\n",
    "\n",
    "# Write some content to the file\n",
    "file.write(\"This is a sample text.\")\n",
    "\n",
    "# Close the file\n",
    "file.close()\n"
   ]
  },
  {
   "cell_type": "code",
   "execution_count": null,
   "id": "ec65bf4f-6404-47af-8994-f91a44b33b32",
   "metadata": {},
   "outputs": [],
   "source": []
  },
  {
   "cell_type": "markdown",
   "id": "06c9f383-4679-4e1c-b7ac-6d24700f192b",
   "metadata": {},
   "source": [
    "# 32) write a program to sort the numerical without inbuilt "
   ]
  },
  {
   "cell_type": "code",
   "execution_count": 1,
   "id": "bd733700-1f71-494e-aa7e-1da29c5f53a2",
   "metadata": {},
   "outputs": [
    {
     "name": "stdout",
     "output_type": "stream",
     "text": [
      "[3, 5, 10, 15, 20, 30, 45, 50]\n"
     ]
    }
   ],
   "source": [
    "lst = [30, 10, 45, 5, 20, 50, 15, 3]\n",
    "sorted_list = []\n",
    "\n",
    "while lst:\n",
    "    minimum = lst[0] \n",
    "    for num in lst: \n",
    "        if num < minimum:\n",
    "            minimum = num\n",
    "    lst.remove(minimum)        \n",
    "    sorted_list.append(minimum) \n",
    "print(sorted_list)\n",
    "\n"
   ]
  },
  {
   "cell_type": "code",
   "execution_count": null,
   "id": "332fb938-d9f6-44e3-a1c2-a5cc4c96529c",
   "metadata": {},
   "outputs": [],
   "source": []
  },
  {
   "cell_type": "markdown",
   "id": "ad569079-a8d8-4353-9273-3eebc5f06332",
   "metadata": {},
   "source": [
    "# 33) remove the characters from a string except the alphabets"
   ]
  },
  {
   "cell_type": "code",
   "execution_count": 10,
   "id": "35ad0186-1335-4780-996c-2bccd2a7382b",
   "metadata": {},
   "outputs": [
    {
     "name": "stdout",
     "output_type": "stream",
     "text": [
      "@1-223#^\n"
     ]
    }
   ],
   "source": [
    "import re\n",
    "string = \"srihari@1-223#^\"\n",
    "pattern = r\"[a-zA-Z]\"\n",
    "a = re.sub(pattern,\"\",string)\n",
    "print(a)"
   ]
  },
  {
   "cell_type": "code",
   "execution_count": null,
   "id": "de55029b-bc96-4035-a40c-9a7703821873",
   "metadata": {},
   "outputs": [],
   "source": []
  },
  {
   "cell_type": "markdown",
   "id": "3d80c65c-afdc-4c3a-a99c-ec6569959c5f",
   "metadata": {},
   "source": [
    "# 34 Write a program to find the sum of the number in the string"
   ]
  },
  {
   "cell_type": "code",
   "execution_count": 50,
   "id": "9554f455-65ff-4d56-b792-569b4ff7ab9c",
   "metadata": {},
   "outputs": [
    {
     "name": "stdout",
     "output_type": "stream",
     "text": [
      "['12334']\n"
     ]
    },
    {
     "ename": "TypeError",
     "evalue": "can only concatenate list (not \"str\") to list",
     "output_type": "error",
     "traceback": [
      "\u001b[1;31m---------------------------------------------------------------------------\u001b[0m",
      "\u001b[1;31mTypeError\u001b[0m                                 Traceback (most recent call last)",
      "Cell \u001b[1;32mIn[50], line 9\u001b[0m\n\u001b[0;32m      7\u001b[0m \u001b[38;5;28mprint\u001b[39m(numbers)\n\u001b[0;32m      8\u001b[0m \u001b[38;5;28;01mfor\u001b[39;00m i \u001b[38;5;129;01min\u001b[39;00m numbers:\n\u001b[1;32m----> 9\u001b[0m     \u001b[38;5;28msum\u001b[39m \u001b[38;5;241m=\u001b[39m \u001b[38;5;28msum\u001b[39m\u001b[38;5;241m+\u001b[39mi\n\u001b[0;32m     10\u001b[0m \u001b[38;5;28mprint\u001b[39m(\u001b[38;5;28msum\u001b[39m)\n",
      "\u001b[1;31mTypeError\u001b[0m: can only concatenate list (not \"str\") to list"
     ]
    }
   ],
   "source": [
    "import re\n",
    "sum = [ ] \n",
    "str = \"sri@12334(\"\n",
    "pattern = re.compile(r\"\\d+\")\n",
    "numbers = re.findall(pattern,str) \n",
    "\n",
    "print(numbers)\n",
    "for i in numbers:\n",
    "    sum = sum+i\n",
    "print(sum)\n",
    "    "
   ]
  },
  {
   "cell_type": "code",
   "execution_count": 58,
   "id": "21a17dcf-5a18-4336-80f7-382e27d99c4a",
   "metadata": {},
   "outputs": [
    {
     "name": "stdout",
     "output_type": "stream",
     "text": [
      "Extracted numbers: 12334\n",
      "List of numbers: [1, 2, 3, 3, 4]\n",
      "14\n"
     ]
    }
   ],
   "source": [
    "import re\n",
    "a = 1\n",
    "num_list = []\n",
    "\n",
    "str = \"sri@12334(\"\n",
    "\n",
    "pattern = re.compile(r\"\\d+\")\n",
    "\n",
    "numbers = re.findall(pattern, str)\n",
    "\n",
    "\n",
    "numbers = \",\".join(numbers)\n",
    "print(\"Extracted numbers:\", numbers)\n",
    "for i in numbers:\n",
    "    num_list.append(int(i))\n",
    "    \n",
    "print(\"List of numbers:\", num_list)\n",
    "\n",
    "for i in num_list:\n",
    "    a += i\n",
    "print(a)\n",
    "    "
   ]
  },
  {
   "cell_type": "code",
   "execution_count": 16,
   "id": "288cd448-ea1f-40f4-9287-90b7c83d2f6d",
   "metadata": {},
   "outputs": [
    {
     "name": "stdout",
     "output_type": "stream",
     "text": [
      "['Non-alphabetic characters present']\n"
     ]
    }
   ],
   "source": [
    "num = []\n",
    "str = \"srihari#1112@\"\n",
    "if str.isalpha():\n",
    "    num.append(str)  \n",
    "else:\n",
    "    num.append(\"Non-alphabetic characters present\")\n",
    "\n",
    "print(num)\n"
   ]
  },
  {
   "cell_type": "code",
   "execution_count": 15,
   "id": "d83c7c9b-0121-438e-b31f-bf21e6c1346e",
   "metadata": {},
   "outputs": [
    {
     "name": "stdout",
     "output_type": "stream",
     "text": [
      "['srihari#1112@']\n"
     ]
    }
   ],
   "source": [
    "num = []\n",
    "str = \"srihari#1112@\"\n",
    "if str .isalpha:\n",
    "    num.append(str)\n",
    "print(num)"
   ]
  },
  {
   "cell_type": "code",
   "execution_count": 70,
   "id": "325404d1-8232-47ef-8044-4c285951e2d7",
   "metadata": {},
   "outputs": [
    {
     "name": "stdout",
     "output_type": "stream",
     "text": [
      "49\n"
     ]
    }
   ],
   "source": [
    "#for i in range(0,10):\n",
    "a = ord(\"1\")\n",
    "print(a)"
   ]
  },
  {
   "cell_type": "markdown",
   "id": "a88fc892-02da-472b-af05-bd59da37d845",
   "metadata": {},
   "source": [
    "# 35) Reverse the string without inbuilt"
   ]
  },
  {
   "cell_type": "code",
   "execution_count": 1,
   "id": "91be8723-363e-4a96-8b42-e218148a1740",
   "metadata": {},
   "outputs": [
    {
     "name": "stdout",
     "output_type": "stream",
     "text": [
      "olleh\n"
     ]
    }
   ],
   "source": [
    "def reverse_string(s):\n",
    "    reversed_str = \"\"\n",
    "    for char in s:\n",
    "        reversed_str = char + reversed_str  # Add each character to the front of the result\n",
    "    return reversed_str\n",
    "\n",
    "# Example usage\n",
    "input_str = \"hello\"\n",
    "print(reverse_string(input_str))\n"
   ]
  },
  {
   "cell_type": "code",
   "execution_count": 8,
   "id": "99897a9b-30a1-498c-b3a0-6e1b6f6c07f0",
   "metadata": {},
   "outputs": [
    {
     "name": "stdout",
     "output_type": "stream",
     "text": [
      "iraH\n"
     ]
    }
   ],
   "source": [
    "def reverse_string(s):\n",
    "    reversed_str = \"\"\n",
    "    i = len(s) - 1  \n",
    "    while i >= 0:\n",
    "        reversed_str += s[i]  #We start with the last character (s[len(s) - 1]) and move backwards to the first character, \n",
    "                               #appending each character to reversed_str\n",
    "        i -= 1\n",
    "    return reversed_str\n",
    "# Example usage\n",
    "print(reverse_string(\"Hari\"))\n"
   ]
  },
  {
   "cell_type": "code",
   "execution_count": 6,
   "id": "b3b6d94a-a83d-4477-b179-a4029e3b943f",
   "metadata": {},
   "outputs": [
    {
     "data": {
      "text/plain": [
       "'irS'"
      ]
     },
     "execution_count": 6,
     "metadata": {},
     "output_type": "execute_result"
    }
   ],
   "source": [
    "\n",
    "def reverse_string(s):\n",
    "    return ''.join(reversed(s))\n",
    "#Example Usage\n",
    "reverse_string(s)"
   ]
  },
  {
   "cell_type": "markdown",
   "id": "44181e55-28da-4c20-acc0-eb4e62d0c84f",
   "metadata": {},
   "source": [
    "# 36) Find the non repeating characters of a string "
   ]
  },
  {
   "cell_type": "code",
   "execution_count": 9,
   "id": "68ebac7c-1736-4d4b-9fe9-f52643698d89",
   "metadata": {},
   "outputs": [
    {
     "name": "stdout",
     "output_type": "stream",
     "text": [
      "de\n"
     ]
    }
   ],
   "source": [
    "def non_repeating_chars(s):\n",
    "    seen = set()\n",
    "    result = []\n",
    "    \n",
    "    for char in s:\n",
    "        if char not in seen:\n",
    "            if s.count(char) == 1:  # Check if the character appears only once\n",
    "                result.append(char)\n",
    "            seen.add(char)\n",
    "    \n",
    "    return ''.join(result)\n",
    "\n",
    "# Example usage\n",
    "input_str = \"aabbccde\"\n",
    "print(non_repeating_chars(input_str))\n"
   ]
  },
  {
   "cell_type": "code",
   "execution_count": 11,
   "id": "0750bebb-5dc5-4c67-afa4-ddf7dbc04db4",
   "metadata": {},
   "outputs": [
    {
     "name": "stdout",
     "output_type": "stream",
     "text": [
      "de\n"
     ]
    }
   ],
   "source": [
    "def non_repeating_chars(s):\n",
    "    return ''.join(filter(lambda x: s.count(x) == 1, s))\n",
    "\n",
    "# Example usage\n",
    "input_str = \"aabbccde\"\n",
    "print(non_repeating_chars(input_str))\n"
   ]
  },
  {
   "cell_type": "markdown",
   "id": "c15aeeb2-92bb-4e82-b4af-a6f1bd96d4bd",
   "metadata": {},
   "source": [
    "# 37) Write a basic function using the lambda function"
   ]
  },
  {
   "cell_type": "code",
   "execution_count": 14,
   "id": "a7bd374e-d954-4a21-baef-142c7bbf4c87",
   "metadata": {},
   "outputs": [
    {
     "name": "stdout",
     "output_type": "stream",
     "text": [
      "3\n"
     ]
    }
   ],
   "source": [
    "x = lambda x,y:x+y\n",
    "print(x(1,2))"
   ]
  },
  {
   "cell_type": "code",
   "execution_count": 23,
   "id": "fc5e3579-13e2-426f-8fa8-d976e343b30d",
   "metadata": {},
   "outputs": [
    {
     "name": "stdout",
     "output_type": "stream",
     "text": [
      "('male', 45)\n"
     ]
    }
   ],
   "source": [
    "m = lambda gender,age:(gender,age)\n",
    "print(m(\"male\",45))"
   ]
  },
  {
   "cell_type": "code",
   "execution_count": 24,
   "id": "0fb5ded1-6532-4fd8-9fc9-1321a9f433da",
   "metadata": {},
   "outputs": [
    {
     "name": "stdout",
     "output_type": "stream",
     "text": [
      "16\n"
     ]
    }
   ],
   "source": [
    "square = lambda x: x ** 2\n",
    "print(square(4))\n"
   ]
  },
  {
   "cell_type": "markdown",
   "id": "0bc9a48d-c24e-4ece-a414-dc526d2258cd",
   "metadata": {},
   "source": [
    "# 39)create a python program to print a pattern of the triangle ,Diamond "
   ]
  },
  {
   "cell_type": "code",
   "execution_count": 34,
   "id": "178d332b-ebb8-4703-8040-bf3c71185b22",
   "metadata": {},
   "outputs": [
    {
     "name": "stdin",
     "output_type": "stream",
     "text": [
      "Enter number of rows for the triangle:  6\n"
     ]
    },
    {
     "name": "stdout",
     "output_type": "stream",
     "text": [
      "     * \n",
      "    * * \n",
      "   * * * \n",
      "  * * * * \n",
      " * * * * * \n",
      "* * * * * * \n"
     ]
    }
   ],
   "source": [
    "def triangle_pattern(rows):\n",
    "    for i in range(1, rows + 1):\n",
    "        print(\" \" * (rows - i) + \"* \" * i)  # Center align the stars\n",
    "\n",
    "rows = int(input(\"Enter number of rows for the triangle: \"))\n",
    "triangle_pattern(rows)\n"
   ]
  },
  {
   "cell_type": "code",
   "execution_count": 35,
   "id": "0bb53bec-290a-4606-80fa-b11a9790f06a",
   "metadata": {},
   "outputs": [
    {
     "name": "stdout",
     "output_type": "stream",
     "text": [
      "\n",
      "Diamond Pattern:\n",
      "    *\n",
      "   ***\n",
      "  *****\n",
      " *******\n",
      "*********\n",
      " *******\n",
      "  *****\n",
      "   ***\n",
      "    *\n"
     ]
    }
   ],
   "source": [
    "def print_diamond(n):\n",
    "    # Upper part of diamond\n",
    "    for i in range(1, n+1):\n",
    "        print(\" \" * (n - i) + \"*\" * (2*i - 1))\n",
    "      # this gives the odd number like the 1,3,5,7,9 because 2*1-1 =1,2*2-1 =3 \n",
    "    # Lower part of diamond\n",
    "    for i in range(n-1, 0, -1):\n",
    "# this gives in range of the n-1 ,0,-1 step means here n is 5 .so 5-1 = 4 when it starts from the 4,0,-1 in step\n",
    "        print(\" \" * (n - i) + \"*\" * (2*i - 1))\n",
    "\n",
    "# Example usage:\n",
    "rows = 5\n",
    "print(\"\\nDiamond Pattern:\")\n",
    "print_diamond(rows)"
   ]
  },
  {
   "cell_type": "markdown",
   "id": "b0e96f1e-12aa-49d7-9479-d61ec6e5066e",
   "metadata": {},
   "source": [
    "# 38) write a program to print number from the starting position number to the ending position number from the user by skipping the multiples of the 3"
   ]
  },
  {
   "cell_type": "code",
   "execution_count": 5,
   "id": "939c7ccd-6fa6-4b1b-a71c-d2eb8f24549c",
   "metadata": {},
   "outputs": [
    {
     "name": "stdin",
     "output_type": "stream",
     "text": [
      "Enter the starting number:  5\n",
      "Enter the ending number:  7\n"
     ]
    },
    {
     "name": "stdout",
     "output_type": "stream",
     "text": [
      "5\n",
      "7\n"
     ]
    }
   ],
   "source": [
    "# Get user input for start and end numbers\n",
    "start = int(input(\"Enter the starting number: \"))\n",
    "end = int(input(\"Enter the ending number: \"))\n",
    "\n",
    "# Loop from start to end\n",
    "for num in range(start, end + 1):\n",
    "    # Check if the number is a multiple of 3\n",
    "    if num % 3 != 0:\n",
    "        print(num)\n"
   ]
  },
  {
   "cell_type": "code",
   "execution_count": 11,
   "id": "9c5a8e99-f804-492a-b48c-7ef8a6160a16",
   "metadata": {},
   "outputs": [
    {
     "name": "stdout",
     "output_type": "stream",
     "text": [
      "which are not divisible by 3 in the range of the starting and the ending:[10, 11, 13, 14, 16, 17, 19, 20, 22, 23, 25, 26, 28, 29, 31, 32, 34, 35, 37, 38, 40]\n"
     ]
    }
   ],
   "source": [
    "s = 10\n",
    "e = 40\n",
    "list = []\n",
    "for i in range(s , e+1):\n",
    "    if i%3 !=0:\n",
    "        list.append(i)\n",
    "\n",
    "print(f\"which are not divisible by 3 in the range of the starting and the ending:{list}\")"
   ]
  },
  {
   "cell_type": "markdown",
   "id": "d7680e29-89b9-4ded-b8be-1ed01bcb3d7a",
   "metadata": {},
   "source": [
    "# 40) write a function to claculate the area of the circle using the radius"
   ]
  },
  {
   "cell_type": "code",
   "execution_count": null,
   "id": "b9906a52-e8ba-47d3-b383-8607e0066719",
   "metadata": {},
   "outputs": [],
   "source": [
    "def area_of_circle(radius):\n",
    "    pi = 3.14159\n",
    "    return pi * radius ** 2 # pie*r**2 for cirlcle area\n",
    "\n",
    "# Example usage\n",
    "radius = 5\n",
    "print(area_of_circle(radius)) \n",
    "                                    "
   ]
  },
  {
   "cell_type": "code",
   "execution_count": 12,
   "id": "c2b7b025-9697-4e3d-b939-4fc8a84f82c0",
   "metadata": {},
   "outputs": [
    {
     "name": "stdout",
     "output_type": "stream",
     "text": [
      "78.53981633974483\n"
     ]
    }
   ],
   "source": [
    "# using inbulit math \n",
    "import math\n",
    "\n",
    "def area_of_circle(radius):\n",
    "    return math.pi * radius ** 2\n",
    "\n",
    "# Example usage\n",
    "radius = 5\n",
    "print(area_of_circle(radius))  # Output: 78.53981633974483\n"
   ]
  },
  {
   "cell_type": "code",
   "execution_count": 13,
   "id": "5d6be837-b8be-4fc0-9619-4626899ebe28",
   "metadata": {},
   "outputs": [
    {
     "name": "stdout",
     "output_type": "stream",
     "text": [
      "78.53975\n"
     ]
    }
   ],
   "source": [
    "# using the lambda function\n",
    "area_of_circle = lambda radius: 3.14159 * radius ** 2\n",
    "\n",
    "# Example usage\n",
    "radius = 5\n",
    "print(area_of_circle(radius))  # Output: 78.53975\n"
   ]
  },
  {
   "cell_type": "code",
   "execution_count": null,
   "id": "e4eecdd9-3fd2-4be3-a4bb-f8ad7cff7d72",
   "metadata": {},
   "outputs": [],
   "source": []
  },
  {
   "cell_type": "markdown",
   "id": "d05fadbe-c4e8-47ae-9174-b2547ed39e7a",
   "metadata": {},
   "source": [
    "# 41) write a function to find the secound largest number in the list"
   ]
  },
  {
   "cell_type": "code",
   "execution_count": 14,
   "id": "df9044b2-d40a-44dc-bc23-62f213e975fe",
   "metadata": {},
   "outputs": [
    {
     "name": "stdout",
     "output_type": "stream",
     "text": [
      "45\n"
     ]
    }
   ],
   "source": [
    "def second_largest(nums):\n",
    "    if len(nums) < 2:\n",
    "        return None  # Return None if the list has fewer than 2 elements\n",
    "    \n",
    "    nums = list(set(nums))  # Remove duplicates using a set\n",
    "    \n",
    "    if len(nums) < 2:\n",
    "        return None  # If there are fewer than 2 unique elements, return None\n",
    "    \n",
    "    nums.sort()  # Sort the list in ascending order\n",
    "    return nums[-2]  # Return the second last element\n",
    "\n",
    "# Example usage\n",
    "nums = [10, 20, 4, 45, 99]\n",
    "print(second_largest(nums))\n"
   ]
  },
  {
   "cell_type": "code",
   "execution_count": 15,
   "id": "a11a174f-07a5-485f-b5a8-6576be8ba188",
   "metadata": {},
   "outputs": [
    {
     "name": "stdout",
     "output_type": "stream",
     "text": [
      "8\n"
     ]
    }
   ],
   "source": [
    "def second_largest_builtin(nums):\n",
    "    unique_nums = list(set(nums))  # Remove duplicates\n",
    "    unique_nums.sort()             # Sort in ascending order\n",
    "    return unique_nums[-2] if len(unique_nums) >= 2 else None\n",
    "\n",
    "# Example\n",
    "numbers = [5, 2, 8, 1, 9, 3]\n",
    "print(second_largest_builtin(numbers))"
   ]
  },
  {
   "cell_type": "markdown",
   "id": "74952762-e40b-420b-b8a5-7d4a02d151df",
   "metadata": {},
   "source": [
    "# 42) create a program to generate the all prime number between the 1 and 100"
   ]
  },
  {
   "cell_type": "code",
   "execution_count": 28,
   "id": "6c7320f3-03b0-4580-9a33-625b97c0723d",
   "metadata": {},
   "outputs": [
    {
     "name": "stdout",
     "output_type": "stream",
     "text": [
      "Prime numbers up to 100 are: [2, 3, 5, 7, 11, 13, 17, 19, 23, 29, 31, 37, 41, 43, 47, 53, 59, 61, 67, 71, 73, 79, 83, 89, 97]\n"
     ]
    }
   ],
   "source": [
    "def find_primes(n):\n",
    "    primes = []  # List to store prime numbers\n",
    "    \n",
    "    for i in range(2, n + 1):  # Start from 2 since 1 is not a prime number\n",
    "        is_prime = True\n",
    "        \n",
    "        for j in range(2, int(i ** 0.5) + 1):  # Check divisibility up to sqrt(i)\n",
    "            if i % j == 0:\n",
    "                is_prime = False\n",
    "                break  # No need to check further\n",
    "\n",
    "        if is_prime:\n",
    "            primes.append(i)\n",
    "\n",
    "    return primes\n",
    "\n",
    "n = 100\n",
    "prime_numbers = find_primes(n)\n",
    "print(\"Prime numbers up to\", n, \"are:\", prime_numbers)\n",
    "        "
   ]
  },
  {
   "cell_type": "code",
   "execution_count": 3,
   "id": "6a9bbc5b-e3cd-466b-9d3d-781f24254d84",
   "metadata": {},
   "outputs": [
    {
     "name": "stdout",
     "output_type": "stream",
     "text": [
      "[2, 3, 5, 7, 11, 13, 17, 19, 23, 29, 31, 37, 41, 43, 47, 53, 59, 61, 67, 71, 73, 79, 83, 89, 97]\n"
     ]
    }
   ],
   "source": [
    "prime_number_list = []\n",
    "for n in range(1, 101):\n",
    "    if n <= 1:\n",
    "        continue  # Skip non-prime numbers (0 and 1)\n",
    "    \n",
    "    for i in range(2, n): \n",
    "        if n % i == 0:\n",
    "            break  # Not a prime number\n",
    "    else:\n",
    "        \n",
    "        prime_number_list.append(n)\n",
    "        #print(\"Prime number:\", n)  # If no factors found, it's prime\n",
    "print(prime_number_list)"
   ]
  },
  {
   "cell_type": "markdown",
   "id": "19709e37-9242-42af-acf3-127fe7e8f678",
   "metadata": {},
   "source": [
    "# 43)Write a program to print counts of the char in the string "
   ]
  },
  {
   "cell_type": "code",
   "execution_count": 1,
   "id": "54fb5f2a-154b-4a79-8eb8-9976141410b1",
   "metadata": {},
   "outputs": [
    {
     "name": "stdout",
     "output_type": "stream",
     "text": [
      "'A':3\n",
      "'b':2\n",
      "'c':1\n",
      "'d':1\n"
     ]
    }
   ],
   "source": [
    "a=\"AAAbbcd\"\n",
    "b={}\n",
    "for i in a:\n",
    "    if i in b:\n",
    "        b[i]+=1\n",
    "    else:\n",
    "        b[i]=1\n",
    "        \n",
    "for i,p in b.items():\n",
    "    print(f\"'{i}':{p}\")"
   ]
  },
  {
   "cell_type": "code",
   "execution_count": null,
   "id": "774d1d64-e17b-4ce4-a2ae-899abdb94f30",
   "metadata": {},
   "outputs": [],
   "source": []
  },
  {
   "cell_type": "code",
   "execution_count": 25,
   "id": "eb5ce304-8cf4-423c-b3ed-fdb9e3ee6a62",
   "metadata": {},
   "outputs": [
    {
     "name": "stdout",
     "output_type": "stream",
     "text": [
      "Letters and their counts: {'r': 2, 's': 1, 'i': 2, 'h': 1, 'a': 1}\n",
      "Digits: ['1', '2', '3']\n"
     ]
    }
   ],
   "source": [
    "str_input = \"srihari123\"\n",
    "s = []\n",
    "c = []\n",
    "\n",
    "for i in str_input:\n",
    "    if i.isalpha():  # Check if it's a letter\n",
    "        s.append(i)\n",
    "    else:  # Check if it's a digit\n",
    "        c.append(i)\n",
    "\n",
    "# Creating a dictionary to map letters to their frequencies\n",
    "d = {char: s.count(char) for char in set(s)}\n",
    "\n",
    "print(f\"Letters and their counts: {d}\")\n",
    "print(f\"Digits: {c}\")\n"
   ]
  },
  {
   "cell_type": "markdown",
   "id": "a1d81b57-a4df-43f3-adc9-44aa7346723d",
   "metadata": {},
   "source": [
    "# 44) write a program to convert the two lists into the dictionary format"
   ]
  },
  {
   "cell_type": "code",
   "execution_count": 36,
   "id": "2851235a-27b9-4f21-a5a4-7cba360782ec",
   "metadata": {},
   "outputs": [
    {
     "name": "stdout",
     "output_type": "stream",
     "text": [
      "{'name': 'Srihari', 'age': 24, 'city': 'Hyderabad'}\n"
     ]
    }
   ],
   "source": [
    "keys = [\"name\", \"age\", \"city\"]\n",
    "values = [\"Srihari\", 24, \"Hyderabad\"]\n",
    "\n",
    "d = {}\n",
    "for i in range(len(keys)):\n",
    "    d[keys[i]] = values[i]\n",
    "\n",
    "print(d)\n"
   ]
  },
  {
   "cell_type": "code",
   "execution_count": 37,
   "id": "cfeb6024-74c5-463e-8f5d-752c9e1853e7",
   "metadata": {},
   "outputs": [
    {
     "name": "stdout",
     "output_type": "stream",
     "text": [
      "{'name': 'Srihari', 'age': 24, 'city': 'Hyderabad'}\n"
     ]
    }
   ],
   "source": [
    "keys = [\"name\", \"age\", \"city\"]\n",
    "values = [\"Srihari\", 24, \"Hyderabad\"]\n",
    "\n",
    "d = dict(zip(keys, values))    # Having the same length of the two can from the dict\n",
    "print(d)\n"
   ]
  },
  {
   "cell_type": "markdown",
   "id": "27b4456e-e684-4932-a7cb-95cff7b5cb79",
   "metadata": {},
   "source": [
    "# 45) Write a program to extract the email id from the text by using the regex"
   ]
  },
  {
   "cell_type": "code",
   "execution_count": 4,
   "id": "5f51bc0d-dba6-4440-83b9-7e67ed27f09a",
   "metadata": {},
   "outputs": [
    {
     "name": "stdout",
     "output_type": "stream",
     "text": [
      "Extracted Emails: ['example1@example.com', 'test.email@domain.org']\n"
     ]
    }
   ],
   "source": [
    "import re\n",
    "\n",
    "def extract_emails(text):\n",
    "    # Regular expression pattern for matching email IDs\n",
    "    email_pattern = r'[a-zA-Z0-9._%+-]+@[a-zA-Z0-9.-]+\\.[a-zA-Z]{2,}'\n",
    "    \n",
    "    # Find all email addresses in the text\n",
    "    emails = re.findall(email_pattern, text)\n",
    "    \n",
    "    return emails\n",
    "\n",
    "# Sample text\n",
    "text = \"Here are some email addresses: example1@example.com, test.email@domain.org, invalid-email@domain\"\n",
    "\n",
    "# Extract emails from the text\n",
    "extracted_emails = extract_emails(text)\n",
    "\n",
    "# Print the extracted emails\n",
    "print(\"Extracted Emails:\", extracted_emails)\n"
   ]
  },
  {
   "cell_type": "markdown",
   "id": "b8b6c3e3-b5b6-415a-978b-dc619f7c8d09",
   "metadata": {},
   "source": [
    "#                                                           oops Basic Questions"
   ]
  },
  {
   "cell_type": "markdown",
   "id": "ed022cec-7e3a-4146-b821-84b31cdbae73",
   "metadata": {},
   "source": [
    "# 46) Class and Object Create a class called Student with attributes name, age, and grade. Create an object of the class and print the attributes.\n"
   ]
  },
  {
   "cell_type": "code",
   "execution_count": 16,
   "id": "93dca46c-0c61-4b38-be73-43f1a2f3c060",
   "metadata": {},
   "outputs": [
    {
     "name": "stdout",
     "output_type": "stream",
     "text": [
      "Name: Alice\n",
      "Age: 20\n",
      "Grade: A\n"
     ]
    }
   ],
   "source": [
    "# Defining the Student class\n",
    "class Student:\n",
    "    def __init__(self, name, age, grade):\n",
    "        self.name = name\n",
    "        self.age = age\n",
    "        self.grade = grade\n",
    "\n",
    "# Creating an object of the Student class\n",
    "student1 = Student(\"Alice\", 20, \"A\")\n",
    "\n",
    "# Printing the attributes of the student object\n",
    "print(f\"Name: {student1.name}\")\n",
    "print(f\"Age: {student1.age}\")\n",
    "print(f\"Grade: {student1.grade}\")\n"
   ]
  },
  {
   "cell_type": "markdown",
   "id": "cf37209a-f0e5-4d29-a026-7e991197c81c",
   "metadata": {},
   "source": [
    "# 47) create a class called Calculator with methods add, subtract, multiply, and divide. Create an object of the class and perform arithmetic operations.\n",
    "\n"
   ]
  },
  {
   "cell_type": "code",
   "execution_count": 17,
   "id": "7a468cb8-3949-4523-a88b-fa270bcf27f0",
   "metadata": {},
   "outputs": [
    {
     "name": "stdout",
     "output_type": "stream",
     "text": [
      "15\n",
      "5\n",
      "50\n",
      "2.0\n"
     ]
    }
   ],
   "source": [
    "class Calculator:\n",
    "    def add(self, x, y): \n",
    "        return x + y\n",
    "\n",
    "    def subtract(self, x, y):  \n",
    "        return x - y\n",
    "\n",
    "    def multiply(self, x, y):\n",
    "        return x * y\n",
    "\n",
    "    def divide(self, x, y):\n",
    "        return x / y\n",
    "\n",
    "calculator = Calculator()\n",
    "print(calculator.add(10, 5))\n",
    "print(calculator.subtract(10, 5))\n",
    "print(calculator.multiply(10, 5))\n",
    "print(calculator.divide(10, 5))\n"
   ]
  },
  {
   "cell_type": "markdown",
   "id": "b461b23c-46dd-4d30-bd5c-7fa5337dbc58",
   "metadata": {},
   "source": [
    "# 48) Create a class called Animal with attributes name and age. Create a subclass called Dog that inherits from Animal. Add a method bark to the Dog class. Create an object of the Dog class and print the attributes and call the bark method."
   ]
  },
  {
   "cell_type": "code",
   "execution_count": null,
   "id": "2ff7ea2f-c725-4e05-89bd-9134d9e8c0c5",
   "metadata": {},
   "outputs": [],
   "source": [
    "# Defining the Animal class\n",
    "class Animal:\n",
    "    def __init__(self, name, age):\n",
    "        self.name = name\n",
    "        self.age = age\n",
    "\n",
    "# Defining the Dog class that inherits from Animal\n",
    "class Dog(Animal):\n",
    "    def __init__(self, name, age, breed):\n",
    "        # Call the constructor of the parent (Animal) class\n",
    "        super().__init__(name, age)\n",
    "        self.breed = breed\n",
    "    \n",
    "    def bark(self):\n",
    "        print(f\"{self.name} says: Woof!\")\n",
    "\n",
    "# Creating an object of the Dog class\n",
    "dog1 = Dog(\"Buddy\", 3, \"Golden Retriever\")\n",
    "\n",
    "# Printing the attributes of the dog object\n",
    "print(f\"Name: {dog1.name}\")\n",
    "print(f\"Age: {dog1.age}\")\n",
    "print(f\"Breed: {dog1.breed}\")\n",
    "\n",
    "# Calling the bark method\n",
    "dog1.bark()\n"
   ]
  },
  {
   "cell_type": "markdown",
   "id": "f6addcc5-4c9d-42f6-913a-45b5fb4ba640",
   "metadata": {},
   "source": [
    "# 49) Write a program to print the create the 3_D array"
   ]
  },
  {
   "cell_type": "code",
   "execution_count": 9,
   "id": "5c0a489e-1dcf-4098-a6b0-5457c5d42881",
   "metadata": {},
   "outputs": [
    {
     "name": "stdout",
     "output_type": "stream",
     "text": [
      "[[[93  7 10]\n",
      "  [46  4 63]\n",
      "  [97 41 35]\n",
      "  [72 48 17]]\n",
      "\n",
      " [[59 24 48]\n",
      "  [16 63 60]\n",
      "  [23 70  8]\n",
      "  [ 8 75 77]]\n",
      "\n",
      " [[60 70 74]\n",
      "  [24 37 54]\n",
      "  [95 72 16]\n",
      "  [37 84 50]]]\n"
     ]
    }
   ],
   "source": [
    "import numpy as np\n",
    "Array = np.random.randint(0,100,(3,4,3))\n",
    "print(Array)"
   ]
  },
  {
   "cell_type": "code",
   "execution_count": 7,
   "id": "69cfc488-8377-4c0a-b05f-b88c9aedcaad",
   "metadata": {},
   "outputs": [
    {
     "name": "stdout",
     "output_type": "stream",
     "text": [
      "[[[14 64 50]\n",
      "  [80 90 49]\n",
      "  [87 16 61]\n",
      "  [84 30 53]]\n",
      "\n",
      " [[11 91 78]\n",
      "  [21 97 24]\n",
      "  [86 23 70]\n",
      "  [13 59 70]]\n",
      "\n",
      " [[10 21 77]\n",
      "  [80 83 45]\n",
      "  [29 29 16]\n",
      "  [45 57 46]]]\n"
     ]
    }
   ],
   "source": [
    "import numpy as np\n",
    "\n",
    "# Generate a 3x4x3 array of random integers between 0 and 100\n",
    "array = np.random.randint(0, 100, (3, 4, 3)) \n",
    "# Here the range is 0,100 and the shape of the array is like the 4,3 means that 4 rows and 3 columns\n",
    "print(array)\n"
   ]
  },
  {
   "cell_type": "code",
   "execution_count": 10,
   "id": "d882d566-7ff6-4d2f-a679-3d464cb12399",
   "metadata": {},
   "outputs": [
    {
     "name": "stdout",
     "output_type": "stream",
     "text": [
      "[[[0. 0. 0. 0. 0.]\n",
      "  [0. 0. 0. 0. 0.]\n",
      "  [0. 0. 0. 0. 0.]\n",
      "  [0. 0. 0. 0. 0.]]\n",
      "\n",
      " [[0. 0. 0. 0. 0.]\n",
      "  [0. 0. 0. 0. 0.]\n",
      "  [0. 0. 0. 0. 0.]\n",
      "  [0. 0. 0. 0. 0.]]\n",
      "\n",
      " [[0. 0. 0. 0. 0.]\n",
      "  [0. 0. 0. 0. 0.]\n",
      "  [0. 0. 0. 0. 0.]\n",
      "  [0. 0. 0. 0. 0.]]]\n"
     ]
    }
   ],
   "source": [
    "import numpy as np\n",
    "\n",
    "# Generate a 3x4x5 array filled with zeros\n",
    "array = np.zeros((3, 4, 5))\n",
    "\n",
    "print(array)\n"
   ]
  },
  {
   "cell_type": "code",
   "execution_count": 27,
   "id": "c62d5381-f745-4bdb-8793-184ef41abc08",
   "metadata": {},
   "outputs": [
    {
     "name": "stdout",
     "output_type": "stream",
     "text": [
      "[[[1. 1. 1. 1.]\n",
      "  [1. 1. 1. 1.]\n",
      "  [1. 1. 1. 1.]\n",
      "  [1. 1. 1. 1.]]\n",
      "\n",
      " [[1. 1. 1. 1.]\n",
      "  [1. 1. 1. 1.]\n",
      "  [1. 1. 1. 1.]\n",
      "  [1. 1. 1. 1.]]]\n"
     ]
    }
   ],
   "source": [
    "a = np.ones((2,4,4))\n",
    "print(a)"
   ]
  },
  {
   "cell_type": "code",
   "execution_count": null,
   "id": "7ba7d165-f232-481f-af7a-e482b2a76a7b",
   "metadata": {},
   "outputs": [],
   "source": []
  }
 ],
 "metadata": {
  "kernelspec": {
   "display_name": "Python 3 (ipykernel)",
   "language": "python",
   "name": "python3"
  },
  "language_info": {
   "codemirror_mode": {
    "name": "ipython",
    "version": 3
   },
   "file_extension": ".py",
   "mimetype": "text/x-python",
   "name": "python",
   "nbconvert_exporter": "python",
   "pygments_lexer": "ipython3",
   "version": "3.12.4"
  }
 },
 "nbformat": 4,
 "nbformat_minor": 5
}
